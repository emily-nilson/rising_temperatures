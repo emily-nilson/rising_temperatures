{
 "cells": [
  {
   "cell_type": "markdown",
   "metadata": {},
   "source": [
    "# Final Project, Part 1: Proposal \n",
    "**Student**: Emily Nilson"
   ]
  },
  {
   "cell_type": "markdown",
   "metadata": {},
   "source": [
    "## Problem Statement"
   ]
  },
  {
   "cell_type": "markdown",
   "metadata": {},
   "source": [
    "As global temperature continues to increase as a result of human-induced climate change, more and more people will be at risk of heat-related illness--or worse, death. It is important to understand how temperatures are expected to change and how many people could potentially be at risk so adequate measures can be taken to: raise awareness of the dangers of high temperatures, ensure electric grid reliability to power air conditioners, ensure ample capacity for hospitals and medical facilities to treat patients, etc. "
   ]
  },
  {
   "cell_type": "markdown",
   "metadata": {},
   "source": [
    "### Hypothesis / Assumptions"
   ]
  },
  {
   "cell_type": "markdown",
   "metadata": {},
   "source": [
    "My hypothesis is that heat-related deaths increase as temperature increases."
   ]
  },
  {
   "cell_type": "markdown",
   "metadata": {},
   "source": [
    "### Goals and Success Metrics"
   ]
  },
  {
   "cell_type": "markdown",
   "metadata": {},
   "source": [
    "My goal is to develop a functional model that will explore the relationship between the different variables noted below and ideally be able to predict heat-related deaths based on climate and socioeconomic data. A successful project will experiment with a few of the model types we have learned in class and determine which is the most appropriate."
   ]
  },
  {
   "cell_type": "markdown",
   "metadata": {},
   "source": [
    "### Risks or Limitations"
   ]
  },
  {
   "cell_type": "markdown",
   "metadata": {},
   "source": [
    "Climate data is inherently complex, but the data I will be using (LOCA) is well-known and trusted within the climate science field. There are also many other factors that could play into heat-related deaths, e.g., preexisting conditions, various vulnerability factors that I'm not considering, etc. "
   ]
  },
  {
   "cell_type": "markdown",
   "metadata": {},
   "source": [
    "### Datasets "
   ]
  },
  {
   "cell_type": "markdown",
   "metadata": {},
   "source": [
    "**Climate Data**\n",
    "\n",
    "Data will be obtained from the [Azavea Climate API](https://climate.azavea.com/), which provides access to the [LOCA Statistically Downscaled data](http://loca.ucsd.edu/) by point location. \n",
    "\n",
    "- Indicators to use:\n",
    "    - Average High Temperature\n",
    "    - Extreme Heat Events\n",
    "    - Heat Wave Duration Index\n",
    "    \n",
    "**Heat-Related Deaths**\n",
    "\n",
    "Data will be obtained from the Center for Disease Control and Prevention through their [WONDER](https://wonder.cdc.gov/controller/datarequest/D140) data portal. This database allows users to filter for cause of death, one of which is \"excessive natural heat\". \n",
    "\n",
    "**Population Demographics Data**\n",
    "\n",
    "Data on population aged over 65 will be obtained from the [US Census Bureau](https://www.census.gov/mp/www/cat/decennial_census_2010/summary_file_1_1.html)"
   ]
  }
 ],
 "metadata": {
  "kernelspec": {
   "display_name": "Python 3",
   "language": "python",
   "name": "python3"
  },
  "language_info": {
   "codemirror_mode": {
    "name": "ipython",
    "version": 3
   },
   "file_extension": ".py",
   "mimetype": "text/x-python",
   "name": "python",
   "nbconvert_exporter": "python",
   "pygments_lexer": "ipython3",
   "version": "3.6.4"
  }
 },
 "nbformat": 4,
 "nbformat_minor": 2
}
