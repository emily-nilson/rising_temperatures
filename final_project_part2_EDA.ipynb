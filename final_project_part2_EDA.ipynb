{
 "cells": [
  {
   "cell_type": "code",
   "execution_count": 89,
   "metadata": {},
   "outputs": [],
   "source": [
    "import numpy as np\n",
    "import seaborn as sns\n",
    "import pandas as pd\n",
    "import matplotlib.pyplot as plt\n",
    "from pathlib import Path\n",
    "%matplotlib inline"
   ]
  },
  {
   "cell_type": "markdown",
   "metadata": {},
   "source": [
    "# Increasing Temperatures and Related Health Impacts\n",
    "\n",
    "Student: Emily Nilson\n",
    "\n",
    "## Exploratory Data Analysis\n",
    "\n",
    "There is a separate Jupyter notebook for the collection and compilation of data. This notebook begins with the \"final\" DataFrame (not so final, as I still have to tidy it up a bit), but this was the output resulting from copious API queries and joining of multiple datasets.\n",
    "\n",
    "### Climate Indicators and Abbreviations\n",
    "The full description of each indicator is in the other notebook, but here's a brief explanation:\n",
    "\n",
    "**Average High Temperature** (`tasmax`)\n",
    "- Aggregated daily average high temperatures\n",
    "\n",
    "**Extreme Heat Events** (`xhe`)\n",
    "- Total times the daily average maximum temperature is above the 99th percentile of historic observations\n",
    "\n",
    "**Heat Wave Incidents** (`hwi`)\n",
    "- Days the daily high temperature exceeds 5˚C above historic average high temperature norms for at least 5 consecutive days"
   ]
  },
  {
   "cell_type": "code",
   "execution_count": 90,
   "metadata": {},
   "outputs": [],
   "source": [
    "path = Path('.', 'final_df.csv')\n",
    "final_df = pd.read_csv(path)"
   ]
  },
  {
   "cell_type": "code",
   "execution_count": 91,
   "metadata": {},
   "outputs": [],
   "source": [
    "final_df.drop(columns={'Unnamed: 0'}, inplace=True)"
   ]
  },
  {
   "cell_type": "code",
   "execution_count": 92,
   "metadata": {},
   "outputs": [
    {
     "data": {
      "text/html": [
       "<div>\n",
       "<style scoped>\n",
       "    .dataframe tbody tr th:only-of-type {\n",
       "        vertical-align: middle;\n",
       "    }\n",
       "\n",
       "    .dataframe tbody tr th {\n",
       "        vertical-align: top;\n",
       "    }\n",
       "\n",
       "    .dataframe thead th {\n",
       "        text-align: right;\n",
       "    }\n",
       "</style>\n",
       "<table border=\"1\" class=\"dataframe\">\n",
       "  <thead>\n",
       "    <tr style=\"text-align: right;\">\n",
       "      <th></th>\n",
       "      <th>state</th>\n",
       "      <th>city</th>\n",
       "      <th>latitude</th>\n",
       "      <th>longitude</th>\n",
       "      <th>azavea_id</th>\n",
       "      <th>population</th>\n",
       "      <th>2005</th>\n",
       "      <th>2006</th>\n",
       "      <th>2007</th>\n",
       "      <th>2008</th>\n",
       "      <th>...</th>\n",
       "      <th>xhe_2009_median</th>\n",
       "      <th>xhe_2010_min</th>\n",
       "      <th>xhe_2010_max</th>\n",
       "      <th>xhe_2010_median</th>\n",
       "      <th>hwi_2009_min</th>\n",
       "      <th>hwi_2009_max</th>\n",
       "      <th>hwi_2009_median</th>\n",
       "      <th>hwi_2010_min</th>\n",
       "      <th>hwi_2010_max</th>\n",
       "      <th>hwi_2010_median</th>\n",
       "    </tr>\n",
       "  </thead>\n",
       "  <tbody>\n",
       "    <tr>\n",
       "      <th>0</th>\n",
       "      <td>Arizona</td>\n",
       "      <td>Phoenix</td>\n",
       "      <td>33.448</td>\n",
       "      <td>-112.097</td>\n",
       "      <td>9</td>\n",
       "      <td>1445632</td>\n",
       "      <td>324.0</td>\n",
       "      <td>336.0</td>\n",
       "      <td>312.0</td>\n",
       "      <td>297.0</td>\n",
       "      <td>...</td>\n",
       "      <td>7</td>\n",
       "      <td>0</td>\n",
       "      <td>55</td>\n",
       "      <td>7</td>\n",
       "      <td>0</td>\n",
       "      <td>5</td>\n",
       "      <td>1</td>\n",
       "      <td>0</td>\n",
       "      <td>3</td>\n",
       "      <td>1</td>\n",
       "    </tr>\n",
       "    <tr>\n",
       "      <th>1</th>\n",
       "      <td>California</td>\n",
       "      <td>Sacramento</td>\n",
       "      <td>38.577</td>\n",
       "      <td>-121.494</td>\n",
       "      <td>41</td>\n",
       "      <td>466488</td>\n",
       "      <td>495.0</td>\n",
       "      <td>1100.0</td>\n",
       "      <td>571.0</td>\n",
       "      <td>571.0</td>\n",
       "      <td>...</td>\n",
       "      <td>5</td>\n",
       "      <td>0</td>\n",
       "      <td>16</td>\n",
       "      <td>9</td>\n",
       "      <td>0</td>\n",
       "      <td>4</td>\n",
       "      <td>1</td>\n",
       "      <td>0</td>\n",
       "      <td>5</td>\n",
       "      <td>2</td>\n",
       "    </tr>\n",
       "    <tr>\n",
       "      <th>2</th>\n",
       "      <td>Colorado</td>\n",
       "      <td>Denver</td>\n",
       "      <td>39.739</td>\n",
       "      <td>-104.985</td>\n",
       "      <td>30</td>\n",
       "      <td>682545</td>\n",
       "      <td>49.0</td>\n",
       "      <td>29.0</td>\n",
       "      <td>28.0</td>\n",
       "      <td>22.0</td>\n",
       "      <td>...</td>\n",
       "      <td>6</td>\n",
       "      <td>0</td>\n",
       "      <td>35</td>\n",
       "      <td>7</td>\n",
       "      <td>0</td>\n",
       "      <td>3</td>\n",
       "      <td>1</td>\n",
       "      <td>0</td>\n",
       "      <td>5</td>\n",
       "      <td>1</td>\n",
       "    </tr>\n",
       "    <tr>\n",
       "      <th>3</th>\n",
       "      <td>Connecticut</td>\n",
       "      <td>Hartford</td>\n",
       "      <td>41.764</td>\n",
       "      <td>-72.682</td>\n",
       "      <td>1653</td>\n",
       "      <td>124006</td>\n",
       "      <td>46.0</td>\n",
       "      <td>54.0</td>\n",
       "      <td>41.0</td>\n",
       "      <td>46.0</td>\n",
       "      <td>...</td>\n",
       "      <td>8</td>\n",
       "      <td>0</td>\n",
       "      <td>24</td>\n",
       "      <td>8</td>\n",
       "      <td>0</td>\n",
       "      <td>3</td>\n",
       "      <td>1</td>\n",
       "      <td>0</td>\n",
       "      <td>4</td>\n",
       "      <td>1</td>\n",
       "    </tr>\n",
       "    <tr>\n",
       "      <th>4</th>\n",
       "      <td>Florida</td>\n",
       "      <td>Tallahassee</td>\n",
       "      <td>30.438</td>\n",
       "      <td>-84.281</td>\n",
       "      <td>138</td>\n",
       "      <td>189907</td>\n",
       "      <td>623.0</td>\n",
       "      <td>500.0</td>\n",
       "      <td>580.0</td>\n",
       "      <td>445.0</td>\n",
       "      <td>...</td>\n",
       "      <td>1</td>\n",
       "      <td>0</td>\n",
       "      <td>28</td>\n",
       "      <td>4</td>\n",
       "      <td>0</td>\n",
       "      <td>3</td>\n",
       "      <td>0</td>\n",
       "      <td>0</td>\n",
       "      <td>7</td>\n",
       "      <td>1</td>\n",
       "    </tr>\n",
       "  </tbody>\n",
       "</table>\n",
       "<p>5 rows × 30 columns</p>\n",
       "</div>"
      ],
      "text/plain": [
       "         state         city  latitude  longitude  azavea_id  population  \\\n",
       "0      Arizona      Phoenix    33.448   -112.097          9     1445632   \n",
       "1   California   Sacramento    38.577   -121.494         41      466488   \n",
       "2     Colorado       Denver    39.739   -104.985         30      682545   \n",
       "3  Connecticut     Hartford    41.764    -72.682       1653      124006   \n",
       "4      Florida  Tallahassee    30.438    -84.281        138      189907   \n",
       "\n",
       "    2005    2006   2007   2008       ...         xhe_2009_median  \\\n",
       "0  324.0   336.0  312.0  297.0       ...                       7   \n",
       "1  495.0  1100.0  571.0  571.0       ...                       5   \n",
       "2   49.0    29.0   28.0   22.0       ...                       6   \n",
       "3   46.0    54.0   41.0   46.0       ...                       8   \n",
       "4  623.0   500.0  580.0  445.0       ...                       1   \n",
       "\n",
       "   xhe_2010_min  xhe_2010_max  xhe_2010_median  hwi_2009_min  hwi_2009_max  \\\n",
       "0             0            55                7             0             5   \n",
       "1             0            16                9             0             4   \n",
       "2             0            35                7             0             3   \n",
       "3             0            24                8             0             3   \n",
       "4             0            28                4             0             3   \n",
       "\n",
       "   hwi_2009_median  hwi_2010_min  hwi_2010_max  hwi_2010_median  \n",
       "0                1             0             3                1  \n",
       "1                1             0             5                2  \n",
       "2                1             0             5                1  \n",
       "3                1             0             4                1  \n",
       "4                0             0             7                1  \n",
       "\n",
       "[5 rows x 30 columns]"
      ]
     },
     "execution_count": 92,
     "metadata": {},
     "output_type": "execute_result"
    }
   ],
   "source": [
    "final_df.head()"
   ]
  },
  {
   "cell_type": "code",
   "execution_count": 93,
   "metadata": {},
   "outputs": [
    {
     "data": {
      "text/plain": [
       "(24, 30)"
      ]
     },
     "execution_count": 93,
     "metadata": {},
     "output_type": "execute_result"
    }
   ],
   "source": [
    "final_df.shape"
   ]
  },
  {
   "cell_type": "code",
   "execution_count": 94,
   "metadata": {},
   "outputs": [
    {
     "data": {
      "text/plain": [
       "Index(['state', 'city', 'latitude', 'longitude', 'azavea_id', 'population',\n",
       "       '2005', '2006', '2007', '2008', '2009', '2010', 'tasmax_2009_min',\n",
       "       'tasmax_2009_max', 'tasmax_2009_median', 'tasmax_2010_min',\n",
       "       'tasmax_2010_max', 'tasmax_2010_median', 'xhe_2009_min', 'xhe_2009_max',\n",
       "       'xhe_2009_median', 'xhe_2010_min', 'xhe_2010_max', 'xhe_2010_median',\n",
       "       'hwi_2009_min', 'hwi_2009_max', 'hwi_2009_median', 'hwi_2010_min',\n",
       "       'hwi_2010_max', 'hwi_2010_median'],\n",
       "      dtype='object')"
      ]
     },
     "execution_count": 94,
     "metadata": {},
     "output_type": "execute_result"
    }
   ],
   "source": [
    "final_df.columns"
   ]
  },
  {
   "cell_type": "markdown",
   "metadata": {},
   "source": [
    "### Initial thoughts on cleaning up the data\n",
    "Several columns here are irrelevant. I only have climate data for 2009 and 2010, so there is no need to keep the heat-related hospitalization data for 2005-2008. In addition, minimum extreme heat events and heat wave incidents means nothing. The more useful values to explore are the median and max. These extra columns will be removed."
   ]
  },
  {
   "cell_type": "code",
   "execution_count": 95,
   "metadata": {},
   "outputs": [],
   "source": [
    "final_df.drop(columns=['2005', '2006', '2007', '2008', 'xhe_2009_min', 'xhe_2010_min',\n",
    "                       'hwi_2009_min', 'hwi_2010_min'], inplace=True)"
   ]
  },
  {
   "cell_type": "code",
   "execution_count": 96,
   "metadata": {},
   "outputs": [],
   "source": [
    "# make it more clear that '2009' and '2010' refer to the # of heat-related hospitalizations\n",
    "\n",
    "final_df.rename(columns={'2009': 'hosp_2009', '2010': 'hosp_2010'}, inplace=True)"
   ]
  },
  {
   "cell_type": "markdown",
   "metadata": {},
   "source": [
    "### Data Shape"
   ]
  },
  {
   "cell_type": "code",
   "execution_count": 97,
   "metadata": {},
   "outputs": [
    {
     "data": {
      "text/plain": [
       "(24, 22)"
      ]
     },
     "execution_count": 97,
     "metadata": {},
     "output_type": "execute_result"
    }
   ],
   "source": [
    "# verifying that 8 columns were removed\n",
    "final_df.shape"
   ]
  },
  {
   "cell_type": "markdown",
   "metadata": {},
   "source": [
    "### Data Types"
   ]
  },
  {
   "cell_type": "code",
   "execution_count": 98,
   "metadata": {},
   "outputs": [
    {
     "data": {
      "text/plain": [
       "state                  object\n",
       "city                   object\n",
       "latitude              float64\n",
       "longitude             float64\n",
       "azavea_id               int64\n",
       "population              int64\n",
       "hosp_2009             float64\n",
       "hosp_2010             float64\n",
       "tasmax_2009_min       float64\n",
       "tasmax_2009_max       float64\n",
       "tasmax_2009_median    float64\n",
       "tasmax_2010_min       float64\n",
       "tasmax_2010_max       float64\n",
       "tasmax_2010_median    float64\n",
       "xhe_2009_max            int64\n",
       "xhe_2009_median         int64\n",
       "xhe_2010_max            int64\n",
       "xhe_2010_median         int64\n",
       "hwi_2009_max            int64\n",
       "hwi_2009_median         int64\n",
       "hwi_2010_max            int64\n",
       "hwi_2010_median         int64\n",
       "dtype: object"
      ]
     },
     "execution_count": 98,
     "metadata": {},
     "output_type": "execute_result"
    }
   ],
   "source": [
    "final_df.dtypes"
   ]
  },
  {
   "cell_type": "markdown",
   "metadata": {},
   "source": [
    "### Handling Null Values"
   ]
  },
  {
   "cell_type": "code",
   "execution_count": 99,
   "metadata": {},
   "outputs": [
    {
     "data": {
      "text/plain": [
       "state                 0\n",
       "city                  0\n",
       "latitude              0\n",
       "longitude             0\n",
       "azavea_id             0\n",
       "population            0\n",
       "hosp_2009             1\n",
       "hosp_2010             1\n",
       "tasmax_2009_min       0\n",
       "tasmax_2009_max       0\n",
       "tasmax_2009_median    0\n",
       "tasmax_2010_min       0\n",
       "tasmax_2010_max       0\n",
       "tasmax_2010_median    0\n",
       "xhe_2009_max          0\n",
       "xhe_2009_median       0\n",
       "xhe_2010_max          0\n",
       "xhe_2010_median       0\n",
       "hwi_2009_max          0\n",
       "hwi_2009_median       0\n",
       "hwi_2010_max          0\n",
       "hwi_2010_median       0\n",
       "dtype: int64"
      ]
     },
     "execution_count": 99,
     "metadata": {},
     "output_type": "execute_result"
    }
   ],
   "source": [
    "final_df.isnull().sum()"
   ]
  },
  {
   "cell_type": "markdown",
   "metadata": {},
   "source": [
    "#### Determine which row is null for hosp_2009 and hosp_2010"
   ]
  },
  {
   "cell_type": "code",
   "execution_count": 100,
   "metadata": {},
   "outputs": [
    {
     "data": {
      "text/plain": [
       "0     False\n",
       "1     False\n",
       "2     False\n",
       "3     False\n",
       "4     False\n",
       "5     False\n",
       "6     False\n",
       "7     False\n",
       "8     False\n",
       "9     False\n",
       "10    False\n",
       "11    False\n",
       "12    False\n",
       "13    False\n",
       "14    False\n",
       "15    False\n",
       "16    False\n",
       "17    False\n",
       "18     True\n",
       "19    False\n",
       "20    False\n",
       "21    False\n",
       "22    False\n",
       "23    False\n",
       "Name: hosp_2009, dtype: bool"
      ]
     },
     "execution_count": 100,
     "metadata": {},
     "output_type": "execute_result"
    }
   ],
   "source": [
    "final_df.loc[:, 'hosp_2009'].isnull()"
   ]
  },
  {
   "cell_type": "code",
   "execution_count": 101,
   "metadata": {},
   "outputs": [
    {
     "data": {
      "text/plain": [
       "0     False\n",
       "1     False\n",
       "2     False\n",
       "3     False\n",
       "4     False\n",
       "5     False\n",
       "6     False\n",
       "7     False\n",
       "8     False\n",
       "9     False\n",
       "10    False\n",
       "11    False\n",
       "12    False\n",
       "13    False\n",
       "14    False\n",
       "15    False\n",
       "16    False\n",
       "17    False\n",
       "18     True\n",
       "19    False\n",
       "20    False\n",
       "21    False\n",
       "22    False\n",
       "23    False\n",
       "Name: hosp_2010, dtype: bool"
      ]
     },
     "execution_count": 101,
     "metadata": {},
     "output_type": "execute_result"
    }
   ],
   "source": [
    "final_df.loc[:, 'hosp_2010'].isnull()"
   ]
  },
  {
   "cell_type": "markdown",
   "metadata": {},
   "source": [
    "#### The null value is in the same row for both, row index #18"
   ]
  },
  {
   "cell_type": "code",
   "execution_count": 102,
   "metadata": {},
   "outputs": [
    {
     "data": {
      "text/plain": [
       "state                 Rhode Island\n",
       "city                    Providence\n",
       "latitude                    41.831\n",
       "longitude                  -71.415\n",
       "azavea_id                      144\n",
       "population                  179207\n",
       "hosp_2009                      NaN\n",
       "hosp_2010                      NaN\n",
       "tasmax_2009_min            60.0764\n",
       "tasmax_2009_max            63.3723\n",
       "tasmax_2009_median         61.7399\n",
       "tasmax_2010_min            59.1972\n",
       "tasmax_2010_max            64.6051\n",
       "tasmax_2010_median         61.8475\n",
       "xhe_2009_max                    17\n",
       "xhe_2009_median                  9\n",
       "xhe_2010_max                    26\n",
       "xhe_2010_median                 10\n",
       "hwi_2009_max                     2\n",
       "hwi_2009_median                  0\n",
       "hwi_2010_max                     3\n",
       "hwi_2010_median                  0\n",
       "Name: 18, dtype: object"
      ]
     },
     "execution_count": 102,
     "metadata": {},
     "output_type": "execute_result"
    }
   ],
   "source": [
    "final_df.iloc[18]"
   ]
  },
  {
   "cell_type": "markdown",
   "metadata": {},
   "source": [
    "#### Handling the row with null values\n",
    "Since the row for Providence is missing critical information, the # of heat-related hospitalizations for both 2009 and 2010, it makes most sense to remove that whole row from the DataFrame."
   ]
  },
  {
   "cell_type": "code",
   "execution_count": 103,
   "metadata": {},
   "outputs": [],
   "source": [
    "final_df.drop(axis=0, index=18, inplace=True)"
   ]
  },
  {
   "cell_type": "code",
   "execution_count": 104,
   "metadata": {},
   "outputs": [
    {
     "data": {
      "text/plain": [
       "(23, 22)"
      ]
     },
     "execution_count": 104,
     "metadata": {},
     "output_type": "execute_result"
    }
   ],
   "source": [
    "final_df.shape"
   ]
  },
  {
   "cell_type": "markdown",
   "metadata": {},
   "source": [
    "### Basic Summary Statistics"
   ]
  },
  {
   "cell_type": "code",
   "execution_count": 105,
   "metadata": {},
   "outputs": [
    {
     "data": {
      "text/html": [
       "<div>\n",
       "<style scoped>\n",
       "    .dataframe tbody tr th:only-of-type {\n",
       "        vertical-align: middle;\n",
       "    }\n",
       "\n",
       "    .dataframe tbody tr th {\n",
       "        vertical-align: top;\n",
       "    }\n",
       "\n",
       "    .dataframe thead th {\n",
       "        text-align: right;\n",
       "    }\n",
       "</style>\n",
       "<table border=\"1\" class=\"dataframe\">\n",
       "  <thead>\n",
       "    <tr style=\"text-align: right;\">\n",
       "      <th></th>\n",
       "      <th>latitude</th>\n",
       "      <th>longitude</th>\n",
       "      <th>azavea_id</th>\n",
       "      <th>population</th>\n",
       "      <th>hosp_2009</th>\n",
       "      <th>hosp_2010</th>\n",
       "      <th>tasmax_2009_min</th>\n",
       "      <th>tasmax_2009_max</th>\n",
       "      <th>tasmax_2009_median</th>\n",
       "      <th>tasmax_2010_min</th>\n",
       "      <th>tasmax_2010_max</th>\n",
       "      <th>tasmax_2010_median</th>\n",
       "      <th>xhe_2009_max</th>\n",
       "      <th>xhe_2009_median</th>\n",
       "      <th>xhe_2010_max</th>\n",
       "      <th>xhe_2010_median</th>\n",
       "      <th>hwi_2009_max</th>\n",
       "      <th>hwi_2009_median</th>\n",
       "      <th>hwi_2010_max</th>\n",
       "      <th>hwi_2010_median</th>\n",
       "    </tr>\n",
       "  </thead>\n",
       "  <tbody>\n",
       "    <tr>\n",
       "      <th>count</th>\n",
       "      <td>23.000000</td>\n",
       "      <td>23.000000</td>\n",
       "      <td>23.000000</td>\n",
       "      <td>2.300000e+01</td>\n",
       "      <td>23.000000</td>\n",
       "      <td>23.000000</td>\n",
       "      <td>23.000000</td>\n",
       "      <td>23.000000</td>\n",
       "      <td>23.000000</td>\n",
       "      <td>23.000000</td>\n",
       "      <td>23.000000</td>\n",
       "      <td>23.000000</td>\n",
       "      <td>23.000000</td>\n",
       "      <td>23.000000</td>\n",
       "      <td>23.00000</td>\n",
       "      <td>23.000000</td>\n",
       "      <td>23.000000</td>\n",
       "      <td>23.000000</td>\n",
       "      <td>23.000000</td>\n",
       "      <td>23.000000</td>\n",
       "    </tr>\n",
       "    <tr>\n",
       "      <th>mean</th>\n",
       "      <td>39.942522</td>\n",
       "      <td>-91.202522</td>\n",
       "      <td>659.782609</td>\n",
       "      <td>2.743603e+05</td>\n",
       "      <td>127.826087</td>\n",
       "      <td>198.000000</td>\n",
       "      <td>64.060138</td>\n",
       "      <td>68.326462</td>\n",
       "      <td>66.215886</td>\n",
       "      <td>63.508222</td>\n",
       "      <td>69.014620</td>\n",
       "      <td>66.394128</td>\n",
       "      <td>21.086957</td>\n",
       "      <td>5.217391</td>\n",
       "      <td>27.00000</td>\n",
       "      <td>6.304348</td>\n",
       "      <td>4.217391</td>\n",
       "      <td>1.173913</td>\n",
       "      <td>4.826087</td>\n",
       "      <td>1.391304</td>\n",
       "    </tr>\n",
       "    <tr>\n",
       "      <th>std</th>\n",
       "      <td>4.558488</td>\n",
       "      <td>17.782434</td>\n",
       "      <td>695.482433</td>\n",
       "      <td>3.248705e+05</td>\n",
       "      <td>168.329939</td>\n",
       "      <td>214.160305</td>\n",
       "      <td>8.435867</td>\n",
       "      <td>8.241079</td>\n",
       "      <td>8.490056</td>\n",
       "      <td>8.319741</td>\n",
       "      <td>8.741806</td>\n",
       "      <td>8.556162</td>\n",
       "      <td>7.913814</td>\n",
       "      <td>1.905889</td>\n",
       "      <td>7.97154</td>\n",
       "      <td>1.663370</td>\n",
       "      <td>1.312753</td>\n",
       "      <td>0.650327</td>\n",
       "      <td>1.527094</td>\n",
       "      <td>0.656376</td>\n",
       "    </tr>\n",
       "    <tr>\n",
       "      <th>min</th>\n",
       "      <td>30.438000</td>\n",
       "      <td>-123.030000</td>\n",
       "      <td>9.000000</td>\n",
       "      <td>7.592000e+03</td>\n",
       "      <td>3.000000</td>\n",
       "      <td>5.000000</td>\n",
       "      <td>52.053515</td>\n",
       "      <td>56.729207</td>\n",
       "      <td>53.928265</td>\n",
       "      <td>51.783469</td>\n",
       "      <td>57.121503</td>\n",
       "      <td>54.131375</td>\n",
       "      <td>11.000000</td>\n",
       "      <td>1.000000</td>\n",
       "      <td>16.00000</td>\n",
       "      <td>4.000000</td>\n",
       "      <td>3.000000</td>\n",
       "      <td>0.000000</td>\n",
       "      <td>3.000000</td>\n",
       "      <td>0.000000</td>\n",
       "    </tr>\n",
       "    <tr>\n",
       "      <th>25%</th>\n",
       "      <td>37.176500</td>\n",
       "      <td>-105.462500</td>\n",
       "      <td>62.500000</td>\n",
       "      <td>6.720050e+04</td>\n",
       "      <td>22.000000</td>\n",
       "      <td>35.000000</td>\n",
       "      <td>58.417716</td>\n",
       "      <td>62.651297</td>\n",
       "      <td>60.507447</td>\n",
       "      <td>58.079951</td>\n",
       "      <td>63.499063</td>\n",
       "      <td>60.845519</td>\n",
       "      <td>15.000000</td>\n",
       "      <td>4.500000</td>\n",
       "      <td>22.50000</td>\n",
       "      <td>5.000000</td>\n",
       "      <td>3.000000</td>\n",
       "      <td>1.000000</td>\n",
       "      <td>4.000000</td>\n",
       "      <td>1.000000</td>\n",
       "    </tr>\n",
       "    <tr>\n",
       "      <th>50%</th>\n",
       "      <td>40.777000</td>\n",
       "      <td>-86.784000</td>\n",
       "      <td>138.000000</td>\n",
       "      <td>1.899070e+05</td>\n",
       "      <td>51.000000</td>\n",
       "      <td>121.000000</td>\n",
       "      <td>62.592966</td>\n",
       "      <td>66.748127</td>\n",
       "      <td>64.651643</td>\n",
       "      <td>61.044975</td>\n",
       "      <td>66.581158</td>\n",
       "      <td>64.743856</td>\n",
       "      <td>20.000000</td>\n",
       "      <td>6.000000</td>\n",
       "      <td>25.00000</td>\n",
       "      <td>7.000000</td>\n",
       "      <td>4.000000</td>\n",
       "      <td>1.000000</td>\n",
       "      <td>5.000000</td>\n",
       "      <td>1.000000</td>\n",
       "    </tr>\n",
       "    <tr>\n",
       "      <th>75%</th>\n",
       "      <td>43.141000</td>\n",
       "      <td>-75.630500</td>\n",
       "      <td>1294.000000</td>\n",
       "      <td>3.444800e+05</td>\n",
       "      <td>164.000000</td>\n",
       "      <td>234.500000</td>\n",
       "      <td>67.926023</td>\n",
       "      <td>71.947910</td>\n",
       "      <td>70.165166</td>\n",
       "      <td>66.901045</td>\n",
       "      <td>74.687758</td>\n",
       "      <td>70.588495</td>\n",
       "      <td>24.000000</td>\n",
       "      <td>6.000000</td>\n",
       "      <td>28.00000</td>\n",
       "      <td>8.000000</td>\n",
       "      <td>5.000000</td>\n",
       "      <td>2.000000</td>\n",
       "      <td>5.500000</td>\n",
       "      <td>2.000000</td>\n",
       "    </tr>\n",
       "    <tr>\n",
       "      <th>max</th>\n",
       "      <td>47.036000</td>\n",
       "      <td>-69.782000</td>\n",
       "      <td>1721.000000</td>\n",
       "      <td>1.445632e+06</td>\n",
       "      <td>607.000000</td>\n",
       "      <td>856.000000</td>\n",
       "      <td>83.841802</td>\n",
       "      <td>88.432810</td>\n",
       "      <td>86.879682</td>\n",
       "      <td>83.796703</td>\n",
       "      <td>88.443623</td>\n",
       "      <td>86.813756</td>\n",
       "      <td>40.000000</td>\n",
       "      <td>9.000000</td>\n",
       "      <td>55.00000</td>\n",
       "      <td>9.000000</td>\n",
       "      <td>7.000000</td>\n",
       "      <td>2.000000</td>\n",
       "      <td>8.000000</td>\n",
       "      <td>2.000000</td>\n",
       "    </tr>\n",
       "  </tbody>\n",
       "</table>\n",
       "</div>"
      ],
      "text/plain": [
       "        latitude   longitude    azavea_id    population   hosp_2009  \\\n",
       "count  23.000000   23.000000    23.000000  2.300000e+01   23.000000   \n",
       "mean   39.942522  -91.202522   659.782609  2.743603e+05  127.826087   \n",
       "std     4.558488   17.782434   695.482433  3.248705e+05  168.329939   \n",
       "min    30.438000 -123.030000     9.000000  7.592000e+03    3.000000   \n",
       "25%    37.176500 -105.462500    62.500000  6.720050e+04   22.000000   \n",
       "50%    40.777000  -86.784000   138.000000  1.899070e+05   51.000000   \n",
       "75%    43.141000  -75.630500  1294.000000  3.444800e+05  164.000000   \n",
       "max    47.036000  -69.782000  1721.000000  1.445632e+06  607.000000   \n",
       "\n",
       "        hosp_2010  tasmax_2009_min  tasmax_2009_max  tasmax_2009_median  \\\n",
       "count   23.000000        23.000000        23.000000           23.000000   \n",
       "mean   198.000000        64.060138        68.326462           66.215886   \n",
       "std    214.160305         8.435867         8.241079            8.490056   \n",
       "min      5.000000        52.053515        56.729207           53.928265   \n",
       "25%     35.000000        58.417716        62.651297           60.507447   \n",
       "50%    121.000000        62.592966        66.748127           64.651643   \n",
       "75%    234.500000        67.926023        71.947910           70.165166   \n",
       "max    856.000000        83.841802        88.432810           86.879682   \n",
       "\n",
       "       tasmax_2010_min  tasmax_2010_max  tasmax_2010_median  xhe_2009_max  \\\n",
       "count        23.000000        23.000000           23.000000     23.000000   \n",
       "mean         63.508222        69.014620           66.394128     21.086957   \n",
       "std           8.319741         8.741806            8.556162      7.913814   \n",
       "min          51.783469        57.121503           54.131375     11.000000   \n",
       "25%          58.079951        63.499063           60.845519     15.000000   \n",
       "50%          61.044975        66.581158           64.743856     20.000000   \n",
       "75%          66.901045        74.687758           70.588495     24.000000   \n",
       "max          83.796703        88.443623           86.813756     40.000000   \n",
       "\n",
       "       xhe_2009_median  xhe_2010_max  xhe_2010_median  hwi_2009_max  \\\n",
       "count        23.000000      23.00000        23.000000     23.000000   \n",
       "mean          5.217391      27.00000         6.304348      4.217391   \n",
       "std           1.905889       7.97154         1.663370      1.312753   \n",
       "min           1.000000      16.00000         4.000000      3.000000   \n",
       "25%           4.500000      22.50000         5.000000      3.000000   \n",
       "50%           6.000000      25.00000         7.000000      4.000000   \n",
       "75%           6.000000      28.00000         8.000000      5.000000   \n",
       "max           9.000000      55.00000         9.000000      7.000000   \n",
       "\n",
       "       hwi_2009_median  hwi_2010_max  hwi_2010_median  \n",
       "count        23.000000     23.000000        23.000000  \n",
       "mean          1.173913      4.826087         1.391304  \n",
       "std           0.650327      1.527094         0.656376  \n",
       "min           0.000000      3.000000         0.000000  \n",
       "25%           1.000000      4.000000         1.000000  \n",
       "50%           1.000000      5.000000         1.000000  \n",
       "75%           2.000000      5.500000         2.000000  \n",
       "max           2.000000      8.000000         2.000000  "
      ]
     },
     "execution_count": 105,
     "metadata": {},
     "output_type": "execute_result"
    }
   ],
   "source": [
    "final_df.describe()"
   ]
  },
  {
   "cell_type": "markdown",
   "metadata": {},
   "source": [
    "### Distribution of Each Column"
   ]
  },
  {
   "cell_type": "code",
   "execution_count": 106,
   "metadata": {},
   "outputs": [
    {
     "data": {
      "image/png": "[encoded data removed]",
      "text/plain": [
       "<matplotlib.figure.Figure at 0x102b7f470>"
      ]
     },
     "metadata": {},
     "output_type": "display_data"
    }
   ],
   "source": [
    "axes = final_df.hist(figsize=(14,16))"
   ]
  },
  {
   "cell_type": "markdown",
   "metadata": {},
   "source": [
    "### Scatterplot of Each Column with Number of Hospitalizations"
   ]
  },
  {
   "cell_type": "markdown",
   "metadata": {},
   "source": [
    "#### 2009 Average High Temp vs. 2009 Hospitalizations "
   ]
  },
  {
   "cell_type": "code",
   "execution_count": 107,
   "metadata": {},
   "outputs": [
    {
     "data": {
      "image/png": "[encoded data removed]",
      "text/plain": [
       "<matplotlib.figure.Figure at 0x10ffc2e10>"
      ]
     },
     "metadata": {},
     "output_type": "display_data"
    }
   ],
   "source": [
    "feature_cols = ['tasmax_2009_min', 'tasmax_2009_max', 'tasmax_2009_median']\n",
    "\n",
    "g = sns.pairplot(final_df,\n",
    "                x_vars = feature_cols, \n",
    "                y_vars = 'hosp_2009',\n",
    "                kind = 'scatter')"
   ]
  },
  {
   "cell_type": "markdown",
   "metadata": {},
   "source": [
    "#### 2010 Average High Temp vs. 2010 Hospitalizations "
   ]
  },
  {
   "cell_type": "code",
   "execution_count": 108,
   "metadata": {},
   "outputs": [
    {
     "data": {
      "image/png": "[encoded data removed]",
      "text/plain": [
       "<matplotlib.figure.Figure at 0x10eaece80>"
      ]
     },
     "metadata": {},
     "output_type": "display_data"
    }
   ],
   "source": [
    "feature_cols = ['tasmax_2010_min', 'tasmax_2010_max', 'tasmax_2010_median']\n",
    "\n",
    "g = sns.pairplot(final_df,\n",
    "                x_vars = feature_cols, \n",
    "                y_vars = 'hosp_2010',\n",
    "                kind = 'scatter')"
   ]
  },
  {
   "cell_type": "markdown",
   "metadata": {},
   "source": [
    "#### 2009 Extreme Heat Events vs. 2009 Hospitalizations"
   ]
  },
  {
   "cell_type": "code",
   "execution_count": 109,
   "metadata": {},
   "outputs": [
    {
     "data": {
      "image/png": "[encoded data removed]",
      "text/plain": [
       "<matplotlib.figure.Figure at 0x110305400>"
      ]
     },
     "metadata": {},
     "output_type": "display_data"
    }
   ],
   "source": [
    "feature_cols = ['xhe_2009_max', 'xhe_2009_median']\n",
    "\n",
    "g = sns.pairplot(final_df,\n",
    "                x_vars = feature_cols, \n",
    "                y_vars = 'hosp_2009',\n",
    "                kind = 'scatter')"
   ]
  },
  {
   "cell_type": "markdown",
   "metadata": {},
   "source": [
    "#### 2010 Extreme Heat Events vs. 2010 Hospitalizations"
   ]
  },
  {
   "cell_type": "code",
   "execution_count": 110,
   "metadata": {},
   "outputs": [
    {
     "data": {
      "image/png": "[encoded data removed]",
      "text/plain": [
       "<matplotlib.figure.Figure at 0x10f5bbdd8>"
      ]
     },
     "metadata": {},
     "output_type": "display_data"
    }
   ],
   "source": [
    "feature_cols = ['xhe_2010_max', 'xhe_2010_median']\n",
    "\n",
    "g = sns.pairplot(final_df,\n",
    "                x_vars = feature_cols, \n",
    "                y_vars = 'hosp_2010',\n",
    "                kind = 'scatter')"
   ]
  },
  {
   "cell_type": "markdown",
   "metadata": {},
   "source": [
    "#### 2009 Heat Wave Incidents vs. 2009 Hospitalizations"
   ]
  },
  {
   "cell_type": "code",
   "execution_count": 111,
   "metadata": {},
   "outputs": [
    {
     "data": {
      "image/png": "[encoded data removed]",
      "text/plain": [
       "<matplotlib.figure.Figure at 0x110af7320>"
      ]
     },
     "metadata": {},
     "output_type": "display_data"
    }
   ],
   "source": [
    "feature_cols = ['hwi_2009_max', 'hwi_2009_median']\n",
    "\n",
    "g = sns.pairplot(final_df,\n",
    "                x_vars = feature_cols, \n",
    "                y_vars = 'hosp_2009',\n",
    "                kind = 'scatter')"
   ]
  },
  {
   "cell_type": "markdown",
   "metadata": {},
   "source": [
    "#### 2010 Heat Wave Incidents vs. 2010 Hospitalizations"
   ]
  },
  {
   "cell_type": "code",
   "execution_count": 112,
   "metadata": {},
   "outputs": [
    {
     "data": {
      "image/png": "[encoded data removed]",
      "text/plain": [
       "<matplotlib.figure.Figure at 0x10eb895f8>"
      ]
     },
     "metadata": {},
     "output_type": "display_data"
    }
   ],
   "source": [
    "feature_cols = ['hwi_2010_max', 'hwi_2010_median']\n",
    "\n",
    "g = sns.pairplot(final_df,\n",
    "                x_vars = feature_cols, \n",
    "                y_vars = 'hosp_2010',\n",
    "                kind = 'scatter')"
   ]
  },
  {
   "cell_type": "markdown",
   "metadata": {},
   "source": [
    "# Concluding Notes"
   ]
  },
  {
   "cell_type": "markdown",
   "metadata": {},
   "source": [
    "### Acknowledged Shortcomings\n",
    "\n",
    "One shortcoming is that there are only 23 rows upon which I am doing analysis. This is primarily due to the limited data available from the CDC on heat-related hospitalizations, but also due to the few other rows that were removed because the Climate API not have data for the capital city. \n",
    "\n",
    "There does appear to be a linear relationship between average high temperature and hospitalizations, but it is difficult to spot relationships between hospitalizations and the other climate indicators.\n",
    "\n",
    "I also fully acknowledge that I am looking at state-level hospitalizations and point-level data (25km<sup>2</sup>) for the climate indicators. Ideally, the variables would be at the same resolution. But climate data does generalize over areas.\n",
    "\n",
    "### Next Steps\n",
    "\n",
    "It would be great to find more data on number of heat-related hospitalizations. I will research other data sources, or see if there is another way to obtain data from the CDC (or other meaningful indicators). \n"
   ]
  },
  {
   "cell_type": "code",
   "execution_count": null,
   "metadata": {},
   "outputs": [],
   "source": []
  }
 ],
 "metadata": {
  "kernelspec": {
   "display_name": "Python 3",
   "language": "python",
   "name": "python3"
  },
  "language_info": {
   "codemirror_mode": {
    "name": "ipython",
    "version": 3
   },
   "file_extension": ".py",
   "mimetype": "text/x-python",
   "name": "python",
   "nbconvert_exporter": "python",
   "pygments_lexer": "ipython3",
   "version": "3.6.4"
  }
 },
 "nbformat": 4,
 "nbformat_minor": 2
}
