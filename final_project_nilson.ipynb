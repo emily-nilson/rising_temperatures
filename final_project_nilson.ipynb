{
 "cells": [
  {
   "cell_type": "code",
   "execution_count": 34,
   "metadata": {},
   "outputs": [],
   "source": [
    "import numpy as np\n",
    "import seaborn as sns\n",
    "import pandas as pd\n",
    "import matplotlib.pyplot as plt\n",
    "from pathlib import Path\n",
    "from scipy import stats\n",
    "from sklearn import model_selection\n",
    "from sklearn.model_selection import train_test_split\n",
    "from sklearn.model_selection import cross_val_score\n",
    "from sklearn import metrics\n",
    "from sklearn.linear_model import LinearRegression\n",
    "from sklearn.ensemble import RandomForestRegressor\n",
    "\n",
    "%matplotlib inline\n",
    "plt.style.use('fivethirtyeight') "
   ]
  },
  {
   "cell_type": "markdown",
   "metadata": {},
   "source": [
    "# Increasing Temperatures and Related Health Impacts\n",
    "**Student:** Emily Nilson\n",
    "\n",
    "\n",
    "## Introduction\n",
    "Our planet is getting warmer. This summer has [set records](https://www.washingtonpost.com/news/capital-weather-gang/wp/2018/07/03/hot-planet-all-time-heat-records-have-been-set-all-over-the-world-in-last-week/?utm_term=.117468c8c1a6) in the Northern Hemisphere, from [Europe to Japan to North America](https://www.cnn.com/2018/07/23/world/global-heatwaves-climate-change-wxc/index.html),  and it is going to be one of the [hottest summers on record](https://www.cnn.com/2018/07/28/us/2018-global-heat-record-4th-wxc/index.html). Increasing temperatures and more frequent and longer heat waves have clear impacts on human health. It is important to understand how temperatures are expected to change and how many people could potentially be vulnerable\n",
    "so adequate measures can be taken to mitigate risks: raise awareness of the dangers of high temperatures, ensure electric grid reliability to power air conditioners, ensure ample capacity for hospitals and medical facilities to treat patients, etc.\n",
    "\n",
    "## Project Overview\n",
    "This project will explore the relationships between heat-related hospitalizations in the United States and a number of heat-related climate variables, including:\n",
    "- Average High Temperature\n",
    "- Extreme Heat Events\n",
    "- Heat Wave Incidents\n",
    "\n",
    "## Data Sets and Sources\n",
    "### Heat-Related Hospitalizations\n",
    "Number of hospitalizations for heat stress per year by state\n",
    "- Center for Disease Control and Prevention's [National Environmental Public Health Tracking Network](https://ephtracking.cdc.gov/DataExplorer/#/)\n",
    "- Data are based on the date of admission, which is limited to between May 1 and September 30 for each year. Data represent number of admissions rather than number of individuals (individual can be admitted more than once). Blanks or missing data were either not collected, not provided to the CDC, or were incomplete or did not meet data quality standards.\n",
    "- Citation: Centers for Disease Control and Prevention. Environmental Public Health Tracking Network. State Hospital Inpatient Discharge data. Accessed From Environmental Public Health Tracking Network: www.cdc.gov/ephtracking. Accessed on 08/18/2018\n",
    "\n",
    "### Climate Indicators\n",
    "- [LOCA Statistical Downscaling (Localized Constructed Analogs)](http://loca.ucsd.edu/)\n",
    "- The compressed LOCA dataset is over 10 terabytes -- it's massive. It contains only three elements: daily maximum temperature, daily minimum temperature, and precipitation. The data is quite unweildy and complex to work with (NetCDF format), so there are several initiatives to make it more accessible for climate adaptation and resilience planning. \n",
    "    - One is [PREPdata](https://www.prepdata.org/) from the Partnership for Resilience and Preparedness (for which I manage the platform). We provide decadal and 30-year summaries for several climate indicators derived from the processed data. \n",
    "    - Another source is the [Azavea Climate API](https://climate.azavea.com/), which provides point-by-point data for 22 climate indicators for 1000+ locations across the U.S. The data is available through queries to the API (though there are rather low rate limits, as I've found)\n",
    "    \n",
    "**Using the Climate API**\n",
    "\n",
    "The API accepts GET, POST, PUT, PATCH, and DELETE HTTP requests. For GET requests that accept parameters, required parameters are specified in the path. Optional parameters are accepted as an HTTP query string parameter:\n",
    "\n",
    "`https://app.climate.azavea.com/api/climate-data/1/RCP45/indicator/average_high_temperature/?years=2050&units=C`\n",
    "\n",
    "In the above, the `city` is represented by `1`, the `climate scenario` is `RCP 4.5`, and the `indicator` is `Average High Temperature`. The querystring also contains additional elements, including `years` as `2005` and `units` as `degrees Celsius`. \n",
    "\n",
    "\n",
    "**Selected climate indicators**\n",
    "- **Average High Temperature**: Average High Temperature is calculated by aggregating daily average high temperatures. It is an appropriate metric for probable long term temperature trends.\n",
    "- **Extreme Heat Events**: Extreme Heat Events counts the total times the daily average maximum temperature is above some percentile of historic observations. The percentile defaults to 99, referring to the hottest percentile of historic daily temperatures. It is an appropriate indicator for understanding deviations from normal climatic extremes. \n",
    "- **Heat Wave Incidents**: Heat Wave Incidents counts the days the daily high temperature exceeds 5˚C above historic average high temperature norms for at least 5 consecutive days. This indicator is closely paired with heat wave duration index and, similarly, provides a concrete and palpable metric to the impacts of global warming. Frequency, duration, and intensity predictions of heat waves are very important for health and emergency services planning.\n",
    "\n",
    "## Goal for Model\n",
    "Develop a basic model to predict heat-related hospitalizations based on climate indicators.\n",
    "\n",
    "### Assumptions and known issues\n",
    "- Hospitalizations are by state and I'm using only one point within the state to summarize the climate indicators\n",
    "    - Ideally would want to take state polygon and summarize data, but Azavea's Climate API only allows point extraction\n",
    "- Hospitalization data isn't as complete as I'd hoped -- it's only available for about half of the states"
   ]
  },
  {
   "cell_type": "markdown",
   "metadata": {},
   "source": [
    "# NOTE:\n",
    "Please see additional notebook (sent via email) for data collection and cleaning"
   ]
  },
  {
   "cell_type": "code",
   "execution_count": 2,
   "metadata": {},
   "outputs": [],
   "source": [
    "path = Path('.', 'consolidated_indicators.csv')\n",
    "final_df = pd.read_csv(path)"
   ]
  },
  {
   "cell_type": "code",
   "execution_count": 3,
   "metadata": {},
   "outputs": [],
   "source": [
    "final_df.drop(columns={'Unnamed: 0'}, inplace=True)"
   ]
  },
  {
   "cell_type": "code",
   "execution_count": 4,
   "metadata": {},
   "outputs": [
    {
     "data": {
      "text/html": [
       "<div>\n",
       "<style scoped>\n",
       "    .dataframe tbody tr th:only-of-type {\n",
       "        vertical-align: middle;\n",
       "    }\n",
       "\n",
       "    .dataframe tbody tr th {\n",
       "        vertical-align: top;\n",
       "    }\n",
       "\n",
       "    .dataframe thead th {\n",
       "        text-align: right;\n",
       "    }\n",
       "</style>\n",
       "<table border=\"1\" class=\"dataframe\">\n",
       "  <thead>\n",
       "    <tr style=\"text-align: right;\">\n",
       "      <th></th>\n",
       "      <th>state</th>\n",
       "      <th>city</th>\n",
       "      <th>year</th>\n",
       "      <th>hospitalizations</th>\n",
       "      <th>azavea_id</th>\n",
       "      <th>latitude</th>\n",
       "      <th>longitude</th>\n",
       "      <th>population</th>\n",
       "      <th>tasmax_median</th>\n",
       "      <th>xhe_median</th>\n",
       "      <th>hwi_median</th>\n",
       "    </tr>\n",
       "  </thead>\n",
       "  <tbody>\n",
       "    <tr>\n",
       "      <th>0</th>\n",
       "      <td>Arizona</td>\n",
       "      <td>Phoenix</td>\n",
       "      <td>2006</td>\n",
       "      <td>336.0</td>\n",
       "      <td>9</td>\n",
       "      <td>33.448</td>\n",
       "      <td>-112.097</td>\n",
       "      <td>1445632</td>\n",
       "      <td>87.646080</td>\n",
       "      <td>5.0</td>\n",
       "      <td>3.0</td>\n",
       "    </tr>\n",
       "    <tr>\n",
       "      <th>1</th>\n",
       "      <td>Arizona</td>\n",
       "      <td>Phoenix</td>\n",
       "      <td>2007</td>\n",
       "      <td>312.0</td>\n",
       "      <td>9</td>\n",
       "      <td>33.448</td>\n",
       "      <td>-112.097</td>\n",
       "      <td>1445632</td>\n",
       "      <td>87.780368</td>\n",
       "      <td>7.0</td>\n",
       "      <td>2.0</td>\n",
       "    </tr>\n",
       "    <tr>\n",
       "      <th>2</th>\n",
       "      <td>Arizona</td>\n",
       "      <td>Phoenix</td>\n",
       "      <td>2008</td>\n",
       "      <td>297.0</td>\n",
       "      <td>9</td>\n",
       "      <td>33.448</td>\n",
       "      <td>-112.097</td>\n",
       "      <td>1445632</td>\n",
       "      <td>87.860642</td>\n",
       "      <td>8.0</td>\n",
       "      <td>2.0</td>\n",
       "    </tr>\n",
       "    <tr>\n",
       "      <th>3</th>\n",
       "      <td>Arizona</td>\n",
       "      <td>Phoenix</td>\n",
       "      <td>2009</td>\n",
       "      <td>378.0</td>\n",
       "      <td>9</td>\n",
       "      <td>33.448</td>\n",
       "      <td>-112.097</td>\n",
       "      <td>1445632</td>\n",
       "      <td>87.633112</td>\n",
       "      <td>10.0</td>\n",
       "      <td>2.0</td>\n",
       "    </tr>\n",
       "    <tr>\n",
       "      <th>4</th>\n",
       "      <td>Arizona</td>\n",
       "      <td>Phoenix</td>\n",
       "      <td>2010</td>\n",
       "      <td>453.0</td>\n",
       "      <td>9</td>\n",
       "      <td>33.448</td>\n",
       "      <td>-112.097</td>\n",
       "      <td>1445632</td>\n",
       "      <td>87.822657</td>\n",
       "      <td>7.0</td>\n",
       "      <td>3.0</td>\n",
       "    </tr>\n",
       "    <tr>\n",
       "      <th>5</th>\n",
       "      <td>California</td>\n",
       "      <td>Sacramento</td>\n",
       "      <td>2006</td>\n",
       "      <td>1100.0</td>\n",
       "      <td>41</td>\n",
       "      <td>38.577</td>\n",
       "      <td>-121.494</td>\n",
       "      <td>466488</td>\n",
       "      <td>75.991388</td>\n",
       "      <td>8.5</td>\n",
       "      <td>3.0</td>\n",
       "    </tr>\n",
       "    <tr>\n",
       "      <th>6</th>\n",
       "      <td>California</td>\n",
       "      <td>Sacramento</td>\n",
       "      <td>2007</td>\n",
       "      <td>571.0</td>\n",
       "      <td>41</td>\n",
       "      <td>38.577</td>\n",
       "      <td>-121.494</td>\n",
       "      <td>466488</td>\n",
       "      <td>76.020224</td>\n",
       "      <td>6.0</td>\n",
       "      <td>3.0</td>\n",
       "    </tr>\n",
       "    <tr>\n",
       "      <th>7</th>\n",
       "      <td>California</td>\n",
       "      <td>Sacramento</td>\n",
       "      <td>2008</td>\n",
       "      <td>571.0</td>\n",
       "      <td>41</td>\n",
       "      <td>38.577</td>\n",
       "      <td>-121.494</td>\n",
       "      <td>466488</td>\n",
       "      <td>75.652062</td>\n",
       "      <td>7.0</td>\n",
       "      <td>3.0</td>\n",
       "    </tr>\n",
       "    <tr>\n",
       "      <th>8</th>\n",
       "      <td>California</td>\n",
       "      <td>Sacramento</td>\n",
       "      <td>2009</td>\n",
       "      <td>516.0</td>\n",
       "      <td>41</td>\n",
       "      <td>38.577</td>\n",
       "      <td>-121.494</td>\n",
       "      <td>466488</td>\n",
       "      <td>75.707044</td>\n",
       "      <td>5.5</td>\n",
       "      <td>3.0</td>\n",
       "    </tr>\n",
       "    <tr>\n",
       "      <th>9</th>\n",
       "      <td>California</td>\n",
       "      <td>Sacramento</td>\n",
       "      <td>2010</td>\n",
       "      <td>503.0</td>\n",
       "      <td>41</td>\n",
       "      <td>38.577</td>\n",
       "      <td>-121.494</td>\n",
       "      <td>466488</td>\n",
       "      <td>75.655707</td>\n",
       "      <td>7.0</td>\n",
       "      <td>3.0</td>\n",
       "    </tr>\n",
       "    <tr>\n",
       "      <th>10</th>\n",
       "      <td>Colorado</td>\n",
       "      <td>Denver</td>\n",
       "      <td>2006</td>\n",
       "      <td>29.0</td>\n",
       "      <td>30</td>\n",
       "      <td>39.739</td>\n",
       "      <td>-104.985</td>\n",
       "      <td>682545</td>\n",
       "      <td>66.180085</td>\n",
       "      <td>7.0</td>\n",
       "      <td>4.0</td>\n",
       "    </tr>\n",
       "    <tr>\n",
       "      <th>11</th>\n",
       "      <td>Colorado</td>\n",
       "      <td>Denver</td>\n",
       "      <td>2007</td>\n",
       "      <td>28.0</td>\n",
       "      <td>30</td>\n",
       "      <td>39.739</td>\n",
       "      <td>-104.985</td>\n",
       "      <td>682545</td>\n",
       "      <td>66.460073</td>\n",
       "      <td>6.5</td>\n",
       "      <td>5.0</td>\n",
       "    </tr>\n",
       "    <tr>\n",
       "      <th>12</th>\n",
       "      <td>Colorado</td>\n",
       "      <td>Denver</td>\n",
       "      <td>2008</td>\n",
       "      <td>22.0</td>\n",
       "      <td>30</td>\n",
       "      <td>39.739</td>\n",
       "      <td>-104.985</td>\n",
       "      <td>682545</td>\n",
       "      <td>66.326864</td>\n",
       "      <td>8.0</td>\n",
       "      <td>5.0</td>\n",
       "    </tr>\n",
       "    <tr>\n",
       "      <th>13</th>\n",
       "      <td>Colorado</td>\n",
       "      <td>Denver</td>\n",
       "      <td>2009</td>\n",
       "      <td>14.0</td>\n",
       "      <td>30</td>\n",
       "      <td>39.739</td>\n",
       "      <td>-104.985</td>\n",
       "      <td>682545</td>\n",
       "      <td>66.248557</td>\n",
       "      <td>9.0</td>\n",
       "      <td>4.0</td>\n",
       "    </tr>\n",
       "    <tr>\n",
       "      <th>14</th>\n",
       "      <td>Colorado</td>\n",
       "      <td>Denver</td>\n",
       "      <td>2010</td>\n",
       "      <td>37.0</td>\n",
       "      <td>30</td>\n",
       "      <td>39.739</td>\n",
       "      <td>-104.985</td>\n",
       "      <td>682545</td>\n",
       "      <td>66.052095</td>\n",
       "      <td>9.5</td>\n",
       "      <td>4.0</td>\n",
       "    </tr>\n",
       "    <tr>\n",
       "      <th>15</th>\n",
       "      <td>Connecticut</td>\n",
       "      <td>Hartford</td>\n",
       "      <td>2006</td>\n",
       "      <td>54.0</td>\n",
       "      <td>1653</td>\n",
       "      <td>41.764</td>\n",
       "      <td>-72.682</td>\n",
       "      <td>124006</td>\n",
       "      <td>61.590789</td>\n",
       "      <td>4.5</td>\n",
       "      <td>2.0</td>\n",
       "    </tr>\n",
       "    <tr>\n",
       "      <th>16</th>\n",
       "      <td>Connecticut</td>\n",
       "      <td>Hartford</td>\n",
       "      <td>2007</td>\n",
       "      <td>41.0</td>\n",
       "      <td>1653</td>\n",
       "      <td>41.764</td>\n",
       "      <td>-72.682</td>\n",
       "      <td>124006</td>\n",
       "      <td>61.811723</td>\n",
       "      <td>4.0</td>\n",
       "      <td>2.0</td>\n",
       "    </tr>\n",
       "    <tr>\n",
       "      <th>17</th>\n",
       "      <td>Connecticut</td>\n",
       "      <td>Hartford</td>\n",
       "      <td>2008</td>\n",
       "      <td>46.0</td>\n",
       "      <td>1653</td>\n",
       "      <td>41.764</td>\n",
       "      <td>-72.682</td>\n",
       "      <td>124006</td>\n",
       "      <td>61.912290</td>\n",
       "      <td>5.0</td>\n",
       "      <td>3.0</td>\n",
       "    </tr>\n",
       "    <tr>\n",
       "      <th>18</th>\n",
       "      <td>Connecticut</td>\n",
       "      <td>Hartford</td>\n",
       "      <td>2009</td>\n",
       "      <td>23.0</td>\n",
       "      <td>1653</td>\n",
       "      <td>41.764</td>\n",
       "      <td>-72.682</td>\n",
       "      <td>124006</td>\n",
       "      <td>61.763663</td>\n",
       "      <td>6.5</td>\n",
       "      <td>2.0</td>\n",
       "    </tr>\n",
       "    <tr>\n",
       "      <th>19</th>\n",
       "      <td>Connecticut</td>\n",
       "      <td>Hartford</td>\n",
       "      <td>2010</td>\n",
       "      <td>86.0</td>\n",
       "      <td>1653</td>\n",
       "      <td>41.764</td>\n",
       "      <td>-72.682</td>\n",
       "      <td>124006</td>\n",
       "      <td>61.796060</td>\n",
       "      <td>8.5</td>\n",
       "      <td>3.0</td>\n",
       "    </tr>\n",
       "  </tbody>\n",
       "</table>\n",
       "</div>"
      ],
      "text/plain": [
       "          state        city  year  hospitalizations  azavea_id  latitude  \\\n",
       "0       Arizona     Phoenix  2006             336.0          9    33.448   \n",
       "1       Arizona     Phoenix  2007             312.0          9    33.448   \n",
       "2       Arizona     Phoenix  2008             297.0          9    33.448   \n",
       "3       Arizona     Phoenix  2009             378.0          9    33.448   \n",
       "4       Arizona     Phoenix  2010             453.0          9    33.448   \n",
       "5    California  Sacramento  2006            1100.0         41    38.577   \n",
       "6    California  Sacramento  2007             571.0         41    38.577   \n",
       "7    California  Sacramento  2008             571.0         41    38.577   \n",
       "8    California  Sacramento  2009             516.0         41    38.577   \n",
       "9    California  Sacramento  2010             503.0         41    38.577   \n",
       "10     Colorado      Denver  2006              29.0         30    39.739   \n",
       "11     Colorado      Denver  2007              28.0         30    39.739   \n",
       "12     Colorado      Denver  2008              22.0         30    39.739   \n",
       "13     Colorado      Denver  2009              14.0         30    39.739   \n",
       "14     Colorado      Denver  2010              37.0         30    39.739   \n",
       "15  Connecticut    Hartford  2006              54.0       1653    41.764   \n",
       "16  Connecticut    Hartford  2007              41.0       1653    41.764   \n",
       "17  Connecticut    Hartford  2008              46.0       1653    41.764   \n",
       "18  Connecticut    Hartford  2009              23.0       1653    41.764   \n",
       "19  Connecticut    Hartford  2010              86.0       1653    41.764   \n",
       "\n",
       "    longitude  population  tasmax_median  xhe_median  hwi_median  \n",
       "0    -112.097     1445632      87.646080         5.0         3.0  \n",
       "1    -112.097     1445632      87.780368         7.0         2.0  \n",
       "2    -112.097     1445632      87.860642         8.0         2.0  \n",
       "3    -112.097     1445632      87.633112        10.0         2.0  \n",
       "4    -112.097     1445632      87.822657         7.0         3.0  \n",
       "5    -121.494      466488      75.991388         8.5         3.0  \n",
       "6    -121.494      466488      76.020224         6.0         3.0  \n",
       "7    -121.494      466488      75.652062         7.0         3.0  \n",
       "8    -121.494      466488      75.707044         5.5         3.0  \n",
       "9    -121.494      466488      75.655707         7.0         3.0  \n",
       "10   -104.985      682545      66.180085         7.0         4.0  \n",
       "11   -104.985      682545      66.460073         6.5         5.0  \n",
       "12   -104.985      682545      66.326864         8.0         5.0  \n",
       "13   -104.985      682545      66.248557         9.0         4.0  \n",
       "14   -104.985      682545      66.052095         9.5         4.0  \n",
       "15    -72.682      124006      61.590789         4.5         2.0  \n",
       "16    -72.682      124006      61.811723         4.0         2.0  \n",
       "17    -72.682      124006      61.912290         5.0         3.0  \n",
       "18    -72.682      124006      61.763663         6.5         2.0  \n",
       "19    -72.682      124006      61.796060         8.5         3.0  "
      ]
     },
     "execution_count": 4,
     "metadata": {},
     "output_type": "execute_result"
    }
   ],
   "source": [
    "final_df.head(20)"
   ]
  },
  {
   "cell_type": "markdown",
   "metadata": {},
   "source": [
    "# Exploratory Data Analysis"
   ]
  },
  {
   "cell_type": "code",
   "execution_count": 5,
   "metadata": {},
   "outputs": [
    {
     "data": {
      "text/plain": [
       "(115, 11)"
      ]
     },
     "execution_count": 5,
     "metadata": {},
     "output_type": "execute_result"
    }
   ],
   "source": [
    "final_df.shape"
   ]
  },
  {
   "cell_type": "code",
   "execution_count": 6,
   "metadata": {},
   "outputs": [
    {
     "data": {
      "text/plain": [
       "Index(['state', 'city', 'year', 'hospitalizations', 'azavea_id', 'latitude',\n",
       "       'longitude', 'population', 'tasmax_median', 'xhe_median', 'hwi_median'],\n",
       "      dtype='object')"
      ]
     },
     "execution_count": 6,
     "metadata": {},
     "output_type": "execute_result"
    }
   ],
   "source": [
    "final_df.columns"
   ]
  },
  {
   "cell_type": "markdown",
   "metadata": {},
   "source": [
    "### Data Types"
   ]
  },
  {
   "cell_type": "code",
   "execution_count": 7,
   "metadata": {},
   "outputs": [
    {
     "data": {
      "text/plain": [
       "state                object\n",
       "city                 object\n",
       "year                  int64\n",
       "hospitalizations    float64\n",
       "azavea_id             int64\n",
       "latitude            float64\n",
       "longitude           float64\n",
       "population            int64\n",
       "tasmax_median       float64\n",
       "xhe_median          float64\n",
       "hwi_median          float64\n",
       "dtype: object"
      ]
     },
     "execution_count": 7,
     "metadata": {},
     "output_type": "execute_result"
    }
   ],
   "source": [
    "final_df.dtypes"
   ]
  },
  {
   "cell_type": "markdown",
   "metadata": {},
   "source": [
    "### Handling Null Values"
   ]
  },
  {
   "cell_type": "code",
   "execution_count": 8,
   "metadata": {},
   "outputs": [
    {
     "data": {
      "text/plain": [
       "state               0\n",
       "city                0\n",
       "year                0\n",
       "hospitalizations    0\n",
       "azavea_id           0\n",
       "latitude            0\n",
       "longitude           0\n",
       "population          0\n",
       "tasmax_median       0\n",
       "xhe_median          0\n",
       "hwi_median          0\n",
       "dtype: int64"
      ]
     },
     "execution_count": 8,
     "metadata": {},
     "output_type": "execute_result"
    }
   ],
   "source": [
    "final_df.isnull().sum()"
   ]
  },
  {
   "cell_type": "markdown",
   "metadata": {},
   "source": [
    "### Basic Summary Statistics"
   ]
  },
  {
   "cell_type": "code",
   "execution_count": 9,
   "metadata": {},
   "outputs": [
    {
     "data": {
      "text/html": [
       "<div>\n",
       "<style scoped>\n",
       "    .dataframe tbody tr th:only-of-type {\n",
       "        vertical-align: middle;\n",
       "    }\n",
       "\n",
       "    .dataframe tbody tr th {\n",
       "        vertical-align: top;\n",
       "    }\n",
       "\n",
       "    .dataframe thead th {\n",
       "        text-align: right;\n",
       "    }\n",
       "</style>\n",
       "<table border=\"1\" class=\"dataframe\">\n",
       "  <thead>\n",
       "    <tr style=\"text-align: right;\">\n",
       "      <th></th>\n",
       "      <th>year</th>\n",
       "      <th>hospitalizations</th>\n",
       "      <th>azavea_id</th>\n",
       "      <th>latitude</th>\n",
       "      <th>longitude</th>\n",
       "      <th>population</th>\n",
       "      <th>tasmax_median</th>\n",
       "      <th>xhe_median</th>\n",
       "      <th>hwi_median</th>\n",
       "    </tr>\n",
       "  </thead>\n",
       "  <tbody>\n",
       "    <tr>\n",
       "      <th>count</th>\n",
       "      <td>115.000000</td>\n",
       "      <td>115.000000</td>\n",
       "      <td>115.000000</td>\n",
       "      <td>115.000000</td>\n",
       "      <td>115.000000</td>\n",
       "      <td>1.150000e+02</td>\n",
       "      <td>115.000000</td>\n",
       "      <td>115.000000</td>\n",
       "      <td>115.000000</td>\n",
       "    </tr>\n",
       "    <tr>\n",
       "      <th>mean</th>\n",
       "      <td>2008.000000</td>\n",
       "      <td>151.565217</td>\n",
       "      <td>659.782609</td>\n",
       "      <td>39.942522</td>\n",
       "      <td>-91.202522</td>\n",
       "      <td>2.743603e+05</td>\n",
       "      <td>66.137135</td>\n",
       "      <td>6.147826</td>\n",
       "      <td>2.813043</td>\n",
       "    </tr>\n",
       "    <tr>\n",
       "      <th>std</th>\n",
       "      <td>1.420403</td>\n",
       "      <td>188.084347</td>\n",
       "      <td>683.172036</td>\n",
       "      <td>4.477801</td>\n",
       "      <td>17.467676</td>\n",
       "      <td>3.191201e+05</td>\n",
       "      <td>8.208394</td>\n",
       "      <td>1.458451</td>\n",
       "      <td>1.060579</td>\n",
       "    </tr>\n",
       "    <tr>\n",
       "      <th>min</th>\n",
       "      <td>2006.000000</td>\n",
       "      <td>1.000000</td>\n",
       "      <td>9.000000</td>\n",
       "      <td>30.438000</td>\n",
       "      <td>-123.030000</td>\n",
       "      <td>7.592000e+03</td>\n",
       "      <td>55.004270</td>\n",
       "      <td>3.000000</td>\n",
       "      <td>1.000000</td>\n",
       "    </tr>\n",
       "    <tr>\n",
       "      <th>25%</th>\n",
       "      <td>2007.000000</td>\n",
       "      <td>26.500000</td>\n",
       "      <td>49.000000</td>\n",
       "      <td>36.166000</td>\n",
       "      <td>-105.940000</td>\n",
       "      <td>5.030200e+04</td>\n",
       "      <td>59.616549</td>\n",
       "      <td>5.000000</td>\n",
       "      <td>2.000000</td>\n",
       "    </tr>\n",
       "    <tr>\n",
       "      <th>50%</th>\n",
       "      <td>2008.000000</td>\n",
       "      <td>80.000000</td>\n",
       "      <td>138.000000</td>\n",
       "      <td>40.777000</td>\n",
       "      <td>-86.784000</td>\n",
       "      <td>1.899070e+05</td>\n",
       "      <td>64.914607</td>\n",
       "      <td>6.000000</td>\n",
       "      <td>3.000000</td>\n",
       "    </tr>\n",
       "    <tr>\n",
       "      <th>75%</th>\n",
       "      <td>2009.000000</td>\n",
       "      <td>198.500000</td>\n",
       "      <td>1356.000000</td>\n",
       "      <td>43.207000</td>\n",
       "      <td>-74.770000</td>\n",
       "      <td>4.038920e+05</td>\n",
       "      <td>71.488606</td>\n",
       "      <td>7.000000</td>\n",
       "      <td>3.500000</td>\n",
       "    </tr>\n",
       "    <tr>\n",
       "      <th>max</th>\n",
       "      <td>2010.000000</td>\n",
       "      <td>1100.000000</td>\n",
       "      <td>1721.000000</td>\n",
       "      <td>47.036000</td>\n",
       "      <td>-69.782000</td>\n",
       "      <td>1.445632e+06</td>\n",
       "      <td>87.860642</td>\n",
       "      <td>10.500000</td>\n",
       "      <td>6.000000</td>\n",
       "    </tr>\n",
       "  </tbody>\n",
       "</table>\n",
       "</div>"
      ],
      "text/plain": [
       "              year  hospitalizations    azavea_id    latitude   longitude  \\\n",
       "count   115.000000        115.000000   115.000000  115.000000  115.000000   \n",
       "mean   2008.000000        151.565217   659.782609   39.942522  -91.202522   \n",
       "std       1.420403        188.084347   683.172036    4.477801   17.467676   \n",
       "min    2006.000000          1.000000     9.000000   30.438000 -123.030000   \n",
       "25%    2007.000000         26.500000    49.000000   36.166000 -105.940000   \n",
       "50%    2008.000000         80.000000   138.000000   40.777000  -86.784000   \n",
       "75%    2009.000000        198.500000  1356.000000   43.207000  -74.770000   \n",
       "max    2010.000000       1100.000000  1721.000000   47.036000  -69.782000   \n",
       "\n",
       "         population  tasmax_median  xhe_median  hwi_median  \n",
       "count  1.150000e+02     115.000000  115.000000  115.000000  \n",
       "mean   2.743603e+05      66.137135    6.147826    2.813043  \n",
       "std    3.191201e+05       8.208394    1.458451    1.060579  \n",
       "min    7.592000e+03      55.004270    3.000000    1.000000  \n",
       "25%    5.030200e+04      59.616549    5.000000    2.000000  \n",
       "50%    1.899070e+05      64.914607    6.000000    3.000000  \n",
       "75%    4.038920e+05      71.488606    7.000000    3.500000  \n",
       "max    1.445632e+06      87.860642   10.500000    6.000000  "
      ]
     },
     "execution_count": 9,
     "metadata": {},
     "output_type": "execute_result"
    }
   ],
   "source": [
    "final_df.describe()"
   ]
  },
  {
   "cell_type": "markdown",
   "metadata": {},
   "source": [
    "### Exploring the Distribution of Independent Variables (Climate Indicators)\n",
    "- `tasmax` = Average High Temperature (Aggregated daily average high temperatures\n",
    "- `xhe` = Extreme Heat Events (Total times the daily average maximum temperature is above the 99th percentile of historic observations)\n",
    "- `hwi` = Heat Wave Incidents (Days the daily high temperature exceeds 5˚C above historic average high temperature norms for at least 5 consecutive days)"
   ]
  },
  {
   "cell_type": "code",
   "execution_count": 10,
   "metadata": {},
   "outputs": [
    {
     "data": {
      "image/png": "[encoded data removed]",
      "text/plain": [
       "<Figure size 648x648 with 4 Axes>"
      ]
     },
     "metadata": {},
     "output_type": "display_data"
    }
   ],
   "source": [
    "axes = final_df.hist(column=['tasmax_median', 'xhe_median', 'hwi_median'], figsize=(9,9))"
   ]
  },
  {
   "cell_type": "code",
   "execution_count": 11,
   "metadata": {},
   "outputs": [
    {
     "data": {
      "image/png": "[encoded data removed]",
      "text/plain": [
       "<Figure size 432x432 with 1 Axes>"
      ]
     },
     "metadata": {},
     "output_type": "display_data"
    }
   ],
   "source": [
    "columns = ['tasmax_median', 'xhe_median', 'hwi_median']\n",
    "\n",
    "ax = final_df.loc[:, columns].plot(kind='box', figsize=(6,6))"
   ]
  },
  {
   "cell_type": "markdown",
   "metadata": {},
   "source": [
    "### Exploring the Distribution of Dependent Variable (# Hospitalizations)"
   ]
  },
  {
   "cell_type": "code",
   "execution_count": 12,
   "metadata": {},
   "outputs": [
    {
     "data": {
      "image/png": "[encoded data removed]",
      "text/plain": [
       "<Figure size 432x288 with 1 Axes>"
      ]
     },
     "metadata": {},
     "output_type": "display_data"
    }
   ],
   "source": [
    "ax = final_df.loc[:, 'hospitalizations'].plot(kind='hist')"
   ]
  },
  {
   "cell_type": "code",
   "execution_count": 13,
   "metadata": {},
   "outputs": [
    {
     "data": {
      "image/png": "[encoded data removed]",
      "text/plain": [
       "<Figure size 432x288 with 1 Axes>"
      ]
     },
     "metadata": {},
     "output_type": "display_data"
    }
   ],
   "source": [
    "ax = final_df.loc[:, 'hospitalizations'].plot(kind='box')"
   ]
  },
  {
   "cell_type": "markdown",
   "metadata": {},
   "source": [
    "Hospitalizations are very skewed."
   ]
  },
  {
   "cell_type": "markdown",
   "metadata": {},
   "source": [
    "## Adding **Rate** of Hospitalizations\n",
    "\n",
    "Rate = Hospitalizations / Population "
   ]
  },
  {
   "cell_type": "code",
   "execution_count": 14,
   "metadata": {},
   "outputs": [],
   "source": [
    "final_df.loc[:, 'hosp_rate'] = (final_df.loc[:, 'hospitalizations'] / final_df.loc[:, 'population'])"
   ]
  },
  {
   "cell_type": "code",
   "execution_count": 15,
   "metadata": {},
   "outputs": [
    {
     "data": {
      "text/html": [
       "<div>\n",
       "<style scoped>\n",
       "    .dataframe tbody tr th:only-of-type {\n",
       "        vertical-align: middle;\n",
       "    }\n",
       "\n",
       "    .dataframe tbody tr th {\n",
       "        vertical-align: top;\n",
       "    }\n",
       "\n",
       "    .dataframe thead th {\n",
       "        text-align: right;\n",
       "    }\n",
       "</style>\n",
       "<table border=\"1\" class=\"dataframe\">\n",
       "  <thead>\n",
       "    <tr style=\"text-align: right;\">\n",
       "      <th></th>\n",
       "      <th>state</th>\n",
       "      <th>city</th>\n",
       "      <th>year</th>\n",
       "      <th>hospitalizations</th>\n",
       "      <th>azavea_id</th>\n",
       "      <th>latitude</th>\n",
       "      <th>longitude</th>\n",
       "      <th>population</th>\n",
       "      <th>tasmax_median</th>\n",
       "      <th>xhe_median</th>\n",
       "      <th>hwi_median</th>\n",
       "      <th>hosp_rate</th>\n",
       "    </tr>\n",
       "  </thead>\n",
       "  <tbody>\n",
       "    <tr>\n",
       "      <th>0</th>\n",
       "      <td>Arizona</td>\n",
       "      <td>Phoenix</td>\n",
       "      <td>2006</td>\n",
       "      <td>336.0</td>\n",
       "      <td>9</td>\n",
       "      <td>33.448</td>\n",
       "      <td>-112.097</td>\n",
       "      <td>1445632</td>\n",
       "      <td>87.646080</td>\n",
       "      <td>5.0</td>\n",
       "      <td>3.0</td>\n",
       "      <td>0.000232</td>\n",
       "    </tr>\n",
       "    <tr>\n",
       "      <th>1</th>\n",
       "      <td>Arizona</td>\n",
       "      <td>Phoenix</td>\n",
       "      <td>2007</td>\n",
       "      <td>312.0</td>\n",
       "      <td>9</td>\n",
       "      <td>33.448</td>\n",
       "      <td>-112.097</td>\n",
       "      <td>1445632</td>\n",
       "      <td>87.780368</td>\n",
       "      <td>7.0</td>\n",
       "      <td>2.0</td>\n",
       "      <td>0.000216</td>\n",
       "    </tr>\n",
       "    <tr>\n",
       "      <th>2</th>\n",
       "      <td>Arizona</td>\n",
       "      <td>Phoenix</td>\n",
       "      <td>2008</td>\n",
       "      <td>297.0</td>\n",
       "      <td>9</td>\n",
       "      <td>33.448</td>\n",
       "      <td>-112.097</td>\n",
       "      <td>1445632</td>\n",
       "      <td>87.860642</td>\n",
       "      <td>8.0</td>\n",
       "      <td>2.0</td>\n",
       "      <td>0.000205</td>\n",
       "    </tr>\n",
       "    <tr>\n",
       "      <th>3</th>\n",
       "      <td>Arizona</td>\n",
       "      <td>Phoenix</td>\n",
       "      <td>2009</td>\n",
       "      <td>378.0</td>\n",
       "      <td>9</td>\n",
       "      <td>33.448</td>\n",
       "      <td>-112.097</td>\n",
       "      <td>1445632</td>\n",
       "      <td>87.633112</td>\n",
       "      <td>10.0</td>\n",
       "      <td>2.0</td>\n",
       "      <td>0.000261</td>\n",
       "    </tr>\n",
       "    <tr>\n",
       "      <th>4</th>\n",
       "      <td>Arizona</td>\n",
       "      <td>Phoenix</td>\n",
       "      <td>2010</td>\n",
       "      <td>453.0</td>\n",
       "      <td>9</td>\n",
       "      <td>33.448</td>\n",
       "      <td>-112.097</td>\n",
       "      <td>1445632</td>\n",
       "      <td>87.822657</td>\n",
       "      <td>7.0</td>\n",
       "      <td>3.0</td>\n",
       "      <td>0.000313</td>\n",
       "    </tr>\n",
       "  </tbody>\n",
       "</table>\n",
       "</div>"
      ],
      "text/plain": [
       "     state     city  year  hospitalizations  azavea_id  latitude  longitude  \\\n",
       "0  Arizona  Phoenix  2006             336.0          9    33.448   -112.097   \n",
       "1  Arizona  Phoenix  2007             312.0          9    33.448   -112.097   \n",
       "2  Arizona  Phoenix  2008             297.0          9    33.448   -112.097   \n",
       "3  Arizona  Phoenix  2009             378.0          9    33.448   -112.097   \n",
       "4  Arizona  Phoenix  2010             453.0          9    33.448   -112.097   \n",
       "\n",
       "   population  tasmax_median  xhe_median  hwi_median  hosp_rate  \n",
       "0     1445632      87.646080         5.0         3.0   0.000232  \n",
       "1     1445632      87.780368         7.0         2.0   0.000216  \n",
       "2     1445632      87.860642         8.0         2.0   0.000205  \n",
       "3     1445632      87.633112        10.0         2.0   0.000261  \n",
       "4     1445632      87.822657         7.0         3.0   0.000313  "
      ]
     },
     "execution_count": 15,
     "metadata": {},
     "output_type": "execute_result"
    }
   ],
   "source": [
    "final_df.head()"
   ]
  },
  {
   "cell_type": "code",
   "execution_count": 16,
   "metadata": {},
   "outputs": [
    {
     "data": {
      "image/png": "[encoded data removed]",
      "text/plain": [
       "<Figure size 432x288 with 1 Axes>"
      ]
     },
     "metadata": {},
     "output_type": "display_data"
    }
   ],
   "source": [
    "ax = final_df.loc[:, 'hosp_rate'].plot(kind='hist')"
   ]
  },
  {
   "cell_type": "code",
   "execution_count": 17,
   "metadata": {},
   "outputs": [
    {
     "data": {
      "image/png": "[encoded data removed]",
      "text/plain": [
       "<Figure size 432x288 with 1 Axes>"
      ]
     },
     "metadata": {},
     "output_type": "display_data"
    }
   ],
   "source": [
    "ax = final_df.loc[:, 'hosp_rate'].plot(kind='box')"
   ]
  },
  {
   "cell_type": "markdown",
   "metadata": {},
   "source": [
    "Hospitalization *Rate* is similarly skewed."
   ]
  },
  {
   "cell_type": "markdown",
   "metadata": {},
   "source": [
    "## Exploring Relationships for Whole Dataset"
   ]
  },
  {
   "cell_type": "markdown",
   "metadata": {},
   "source": [
    "### Overall heatmap"
   ]
  },
  {
   "cell_type": "code",
   "execution_count": 18,
   "metadata": {},
   "outputs": [
    {
     "data": {
      "image/png": "[encoded data removed]",
      "text/plain": [
       "<Figure size 432x288 with 2 Axes>"
      ]
     },
     "metadata": {},
     "output_type": "display_data"
    }
   ],
   "source": [
    "ax = sns.heatmap(final_df.corr(), vmin=-1, vmax=1, cmap=sns.diverging_palette(240, 10, n=11))"
   ]
  },
  {
   "cell_type": "markdown",
   "metadata": {},
   "source": [
    "The only notable correlation visible on the heatmap is Average High Temperature (`tasmax`) compared to Hospitalizations."
   ]
  },
  {
   "cell_type": "markdown",
   "metadata": {},
   "source": [
    "### Plotting climate indicators against # of hospitalizations"
   ]
  },
  {
   "cell_type": "code",
   "execution_count": 19,
   "metadata": {},
   "outputs": [
    {
     "data": {
      "image/png": "[encoded data removed]",
      "text/plain": [
       "<Figure size 540x180 with 3 Axes>"
      ]
     },
     "metadata": {},
     "output_type": "display_data"
    }
   ],
   "source": [
    "feature_cols = ['tasmax_median', 'xhe_median', 'hwi_median']\n",
    "\n",
    "g = sns.pairplot(final_df,\n",
    "                x_vars = feature_cols, \n",
    "                y_vars = 'hospitalizations',\n",
    "                kind = 'reg',\n",
    "                plot_kws = {'scatter_kws': {'alpha': 0.5, 's':25}, \n",
    "                            'line_kws': {'color': 'purple', 'lw':2}})"
   ]
  },
  {
   "cell_type": "markdown",
   "metadata": {},
   "source": [
    "#### There appears to be some relationship between Average High Temperature (`tasmax`) and Number of Hospitalizations\n"
   ]
  },
  {
   "cell_type": "code",
   "execution_count": 20,
   "metadata": {},
   "outputs": [
    {
     "data": {
      "image/png": "[encoded data removed]",
      "text/plain": [
       "<Figure size 540x360 with 1 Axes>"
      ]
     },
     "metadata": {},
     "output_type": "display_data"
    }
   ],
   "source": [
    "g = sns.lmplot(x='tasmax_median', \n",
    "           y='hospitalizations',\n",
    "           data=final_df,\n",
    "           aspect=1.5,\n",
    "           scatter_kws={'alpha': 0.5},\n",
    "           line_kws={'lw':2, 'color': 'purple'}\n",
    "           )\n",
    "g.set_axis_labels('Median Average High Temperature (°F)', 'Number of Hospitalizations');\n",
    "g.ax.set_title('Temperature vs. Hospitalizations');"
   ]
  },
  {
   "cell_type": "markdown",
   "metadata": {},
   "source": [
    "There indeed appears to be a linear relationship, so a Linear Regression model using at least this variable will be good to test."
   ]
  },
  {
   "cell_type": "markdown",
   "metadata": {},
   "source": [
    "### Plotting climate indicators against hospitalization rate"
   ]
  },
  {
   "cell_type": "code",
   "execution_count": 21,
   "metadata": {},
   "outputs": [
    {
     "data": {
      "image/png": "[encoded data removed]",
      "text/plain": [
       "<Figure size 540x180 with 3 Axes>"
      ]
     },
     "metadata": {},
     "output_type": "display_data"
    }
   ],
   "source": [
    "feature_cols = ['tasmax_median', 'xhe_median', 'hwi_median']\n",
    "\n",
    "g = sns.pairplot(final_df,\n",
    "                x_vars = feature_cols, \n",
    "                y_vars = 'hosp_rate',\n",
    "                kind = 'reg',\n",
    "                plot_kws = {'scatter_kws': {'alpha': 0.5, 's':25}, \n",
    "                            'line_kws': {'color': 'purple', 'lw':2}})\n",
    "\n",
    "g.set(ylim=(-0.0005,0.01));"
   ]
  },
  {
   "cell_type": "markdown",
   "metadata": {},
   "source": [
    "#### Comparing the best fit regression line above to one for Average High Temperature (`tasmax`) and Hospitalization Rate"
   ]
  },
  {
   "cell_type": "code",
   "execution_count": 22,
   "metadata": {},
   "outputs": [
    {
     "data": {
      "image/png": "[encoded data removed]",
      "text/plain": [
       "<Figure size 540x360 with 1 Axes>"
      ]
     },
     "metadata": {},
     "output_type": "display_data"
    }
   ],
   "source": [
    "g = sns.lmplot(x='tasmax_median', \n",
    "           y='hosp_rate',\n",
    "           data=final_df,\n",
    "           aspect=1.5,\n",
    "           scatter_kws={'alpha': 0.5},\n",
    "           line_kws={'lw':2, 'color': 'purple'}\n",
    "           )\n",
    "g.set(ylim=(-0.001,0.01))\n",
    "g.set_axis_labels('Median Average High Temperature (°F)', 'Hospitalization Rate')\n",
    "g.ax.set_title('Temperature vs. Hospitalization Rate');"
   ]
  },
  {
   "cell_type": "markdown",
   "metadata": {},
   "source": [
    "Median Average High Temperature and Hospitalizations (#) seems to have a better linear fit than hospitalization *rate*."
   ]
  },
  {
   "cell_type": "markdown",
   "metadata": {},
   "source": [
    "## Exploring Relationships for a Single Year (2006)"
   ]
  },
  {
   "cell_type": "markdown",
   "metadata": {},
   "source": [
    "To compare how it looks compared to the entire dataset"
   ]
  },
  {
   "cell_type": "code",
   "execution_count": 23,
   "metadata": {},
   "outputs": [
    {
     "data": {
      "text/html": [
       "<div>\n",
       "<style scoped>\n",
       "    .dataframe tbody tr th:only-of-type {\n",
       "        vertical-align: middle;\n",
       "    }\n",
       "\n",
       "    .dataframe tbody tr th {\n",
       "        vertical-align: top;\n",
       "    }\n",
       "\n",
       "    .dataframe thead th {\n",
       "        text-align: right;\n",
       "    }\n",
       "</style>\n",
       "<table border=\"1\" class=\"dataframe\">\n",
       "  <thead>\n",
       "    <tr style=\"text-align: right;\">\n",
       "      <th></th>\n",
       "      <th>state</th>\n",
       "      <th>city</th>\n",
       "      <th>year</th>\n",
       "      <th>hospitalizations</th>\n",
       "      <th>azavea_id</th>\n",
       "      <th>latitude</th>\n",
       "      <th>longitude</th>\n",
       "      <th>population</th>\n",
       "      <th>tasmax_median</th>\n",
       "      <th>xhe_median</th>\n",
       "      <th>hwi_median</th>\n",
       "      <th>hosp_rate</th>\n",
       "    </tr>\n",
       "  </thead>\n",
       "  <tbody>\n",
       "    <tr>\n",
       "      <th>0</th>\n",
       "      <td>Arizona</td>\n",
       "      <td>Phoenix</td>\n",
       "      <td>2006</td>\n",
       "      <td>336.0</td>\n",
       "      <td>9</td>\n",
       "      <td>33.448</td>\n",
       "      <td>-112.097</td>\n",
       "      <td>1445632</td>\n",
       "      <td>87.646080</td>\n",
       "      <td>5.0</td>\n",
       "      <td>3.0</td>\n",
       "      <td>0.000232</td>\n",
       "    </tr>\n",
       "    <tr>\n",
       "      <th>5</th>\n",
       "      <td>California</td>\n",
       "      <td>Sacramento</td>\n",
       "      <td>2006</td>\n",
       "      <td>1100.0</td>\n",
       "      <td>41</td>\n",
       "      <td>38.577</td>\n",
       "      <td>-121.494</td>\n",
       "      <td>466488</td>\n",
       "      <td>75.991388</td>\n",
       "      <td>8.5</td>\n",
       "      <td>3.0</td>\n",
       "      <td>0.002358</td>\n",
       "    </tr>\n",
       "    <tr>\n",
       "      <th>10</th>\n",
       "      <td>Colorado</td>\n",
       "      <td>Denver</td>\n",
       "      <td>2006</td>\n",
       "      <td>29.0</td>\n",
       "      <td>30</td>\n",
       "      <td>39.739</td>\n",
       "      <td>-104.985</td>\n",
       "      <td>682545</td>\n",
       "      <td>66.180085</td>\n",
       "      <td>7.0</td>\n",
       "      <td>4.0</td>\n",
       "      <td>0.000042</td>\n",
       "    </tr>\n",
       "    <tr>\n",
       "      <th>15</th>\n",
       "      <td>Connecticut</td>\n",
       "      <td>Hartford</td>\n",
       "      <td>2006</td>\n",
       "      <td>54.0</td>\n",
       "      <td>1653</td>\n",
       "      <td>41.764</td>\n",
       "      <td>-72.682</td>\n",
       "      <td>124006</td>\n",
       "      <td>61.590789</td>\n",
       "      <td>4.5</td>\n",
       "      <td>2.0</td>\n",
       "      <td>0.000435</td>\n",
       "    </tr>\n",
       "    <tr>\n",
       "      <th>20</th>\n",
       "      <td>Florida</td>\n",
       "      <td>Tallahassee</td>\n",
       "      <td>2006</td>\n",
       "      <td>500.0</td>\n",
       "      <td>138</td>\n",
       "      <td>30.438</td>\n",
       "      <td>-84.281</td>\n",
       "      <td>189907</td>\n",
       "      <td>80.077949</td>\n",
       "      <td>8.0</td>\n",
       "      <td>1.0</td>\n",
       "      <td>0.002633</td>\n",
       "    </tr>\n",
       "  </tbody>\n",
       "</table>\n",
       "</div>"
      ],
      "text/plain": [
       "          state         city  year  hospitalizations  azavea_id  latitude  \\\n",
       "0       Arizona      Phoenix  2006             336.0          9    33.448   \n",
       "5    California   Sacramento  2006            1100.0         41    38.577   \n",
       "10     Colorado       Denver  2006              29.0         30    39.739   \n",
       "15  Connecticut     Hartford  2006              54.0       1653    41.764   \n",
       "20      Florida  Tallahassee  2006             500.0        138    30.438   \n",
       "\n",
       "    longitude  population  tasmax_median  xhe_median  hwi_median  hosp_rate  \n",
       "0    -112.097     1445632      87.646080         5.0         3.0   0.000232  \n",
       "5    -121.494      466488      75.991388         8.5         3.0   0.002358  \n",
       "10   -104.985      682545      66.180085         7.0         4.0   0.000042  \n",
       "15    -72.682      124006      61.590789         4.5         2.0   0.000435  \n",
       "20    -84.281      189907      80.077949         8.0         1.0   0.002633  "
      ]
     },
     "execution_count": 23,
     "metadata": {},
     "output_type": "execute_result"
    }
   ],
   "source": [
    "final_df_2006 = final_df.loc[(final_df.loc[:, 'year'] == 2006), :]\n",
    "final_df_2006.head()"
   ]
  },
  {
   "cell_type": "code",
   "execution_count": 24,
   "metadata": {},
   "outputs": [
    {
     "data": {
      "image/png": "[encoded data removed]",
      "text/plain": [
       "<Figure size 540x180 with 3 Axes>"
      ]
     },
     "metadata": {},
     "output_type": "display_data"
    }
   ],
   "source": [
    "feature_cols = ['tasmax_median', 'xhe_median', 'hwi_median']\n",
    "\n",
    "g = sns.pairplot(final_df_2006,\n",
    "                x_vars = feature_cols, \n",
    "                y_vars = 'hospitalizations',\n",
    "                kind = 'reg',\n",
    "                plot_kws = {'scatter_kws': {'alpha': 0.5, 's':25}, \n",
    "                            'line_kws': {'color': 'purple', 'lw':2}})"
   ]
  },
  {
   "cell_type": "code",
   "execution_count": 25,
   "metadata": {
    "scrolled": true
   },
   "outputs": [
    {
     "data": {
      "image/png": "[encoded data removed]",
      "text/plain": [
       "<Figure size 540x180 with 3 Axes>"
      ]
     },
     "metadata": {},
     "output_type": "display_data"
    }
   ],
   "source": [
    "feature_cols = ['tasmax_median', 'xhe_median', 'hwi_median']\n",
    "\n",
    "g = sns.pairplot(final_df_2006,\n",
    "                x_vars = feature_cols, \n",
    "                y_vars = 'hosp_rate',\n",
    "                kind = 'reg',\n",
    "                plot_kws = {'scatter_kws': {'alpha': 0.5, 's':25}, \n",
    "                            'line_kws': {'color': 'purple', 'lw':2}})\n",
    "\n",
    "g.set(ylim=(0,0.007));"
   ]
  },
  {
   "cell_type": "markdown",
   "metadata": {},
   "source": [
    "Can see similar patterns to the whole dataset."
   ]
  },
  {
   "cell_type": "markdown",
   "metadata": {},
   "source": [
    "## Checking for Collinearity Between Variables"
   ]
  },
  {
   "cell_type": "markdown",
   "metadata": {},
   "source": [
    "Average High Temperature versus Extreme Heat Events"
   ]
  },
  {
   "cell_type": "code",
   "execution_count": 26,
   "metadata": {},
   "outputs": [
    {
     "name": "stderr",
     "output_type": "stream",
     "text": [
      "/Users/emilynilson/anaconda3/lib/python3.6/site-packages/matplotlib/axes/_axes.py:6571: UserWarning: The 'normed' kwarg is deprecated, and has been replaced by the 'density' kwarg.\n",
      "  warnings.warn(\"The 'normed' kwarg is deprecated, and has been \"\n"
     ]
    },
    {
     "data": {
      "image/png": "[encoded data removed]",
      "text/plain": [
       "<Figure size 432x432 with 3 Axes>"
      ]
     },
     "metadata": {},
     "output_type": "display_data"
    }
   ],
   "source": [
    "x = final_df.loc[:, 'tasmax_median']\n",
    "y = final_df.loc[:, 'xhe_median']\n",
    "\n",
    "def r2(x, y):\n",
    "    return stats.pearsonr(x, y)[0] ** 2\n",
    "sns.jointplot(x, y, kind=\"reg\", stat_func=r2);"
   ]
  },
  {
   "cell_type": "markdown",
   "metadata": {},
   "source": [
    "Average High Temperature versus Heat Wave Incidents"
   ]
  },
  {
   "cell_type": "code",
   "execution_count": 27,
   "metadata": {},
   "outputs": [
    {
     "name": "stderr",
     "output_type": "stream",
     "text": [
      "/Users/emilynilson/anaconda3/lib/python3.6/site-packages/matplotlib/axes/_axes.py:6571: UserWarning: The 'normed' kwarg is deprecated, and has been replaced by the 'density' kwarg.\n",
      "  warnings.warn(\"The 'normed' kwarg is deprecated, and has been \"\n"
     ]
    },
    {
     "data": {
      "image/png": "[encoded data removed]",
      "text/plain": [
       "<Figure size 432x432 with 3 Axes>"
      ]
     },
     "metadata": {},
     "output_type": "display_data"
    }
   ],
   "source": [
    "x = final_df.loc[:, 'tasmax_median']\n",
    "y = final_df.loc[:, 'hwi_median']\n",
    "\n",
    "def r2(x, y):\n",
    "    return stats.pearsonr(x, y)[0] ** 2\n",
    "sns.jointplot(x, y, kind=\"reg\", stat_func=r2);"
   ]
  },
  {
   "cell_type": "markdown",
   "metadata": {},
   "source": [
    "Heat Wave Incidents versus Extreme Heat Events"
   ]
  },
  {
   "cell_type": "code",
   "execution_count": 28,
   "metadata": {
    "scrolled": false
   },
   "outputs": [
    {
     "name": "stderr",
     "output_type": "stream",
     "text": [
      "/Users/emilynilson/anaconda3/lib/python3.6/site-packages/matplotlib/axes/_axes.py:6571: UserWarning: The 'normed' kwarg is deprecated, and has been replaced by the 'density' kwarg.\n",
      "  warnings.warn(\"The 'normed' kwarg is deprecated, and has been \"\n"
     ]
    },
    {
     "data": {
      "image/png": "[encoded data removed]",
      "text/plain": [
       "<Figure size 432x432 with 3 Axes>"
      ]
     },
     "metadata": {},
     "output_type": "display_data"
    }
   ],
   "source": [
    "x = final_df.loc[:, 'hwi_median']\n",
    "y = final_df.loc[:, 'xhe_median']\n",
    "\n",
    "def r2(x, y):\n",
    "    return stats.pearsonr(x, y)[0] ** 2\n",
    "sns.jointplot(x, y, kind=\"reg\", stat_func=r2);"
   ]
  },
  {
   "cell_type": "markdown",
   "metadata": {},
   "source": [
    "### Evaluating Collinearity\n",
    "\n",
    "Since the $r^2$ value is < 0.7 in each of these instances, we can safely assume the variables are not correlated with one another."
   ]
  },
  {
   "cell_type": "code",
   "execution_count": null,
   "metadata": {},
   "outputs": [],
   "source": []
  },
  {
   "cell_type": "markdown",
   "metadata": {},
   "source": [
    "# Time to build a model!"
   ]
  },
  {
   "cell_type": "code",
   "execution_count": null,
   "metadata": {},
   "outputs": [],
   "source": []
  },
  {
   "cell_type": "markdown",
   "metadata": {},
   "source": [
    "# Linear Regression"
   ]
  },
  {
   "cell_type": "markdown",
   "metadata": {},
   "source": [
    "## Step 1: Establish a Baseline\n",
    "### Test a linear regression model on the dataset *as is*, with all years. \n",
    "\n",
    "For this initial simplified model:\n",
    "- Use all three climate variables, for both number of hospitalizations and hospitalization rate\n",
    "- For each, do a simple train-test-split and evaluate with k-fold cross validation"
   ]
  },
  {
   "cell_type": "markdown",
   "metadata": {},
   "source": [
    "### All Three Climate Indicators + *Number* of Hospitalizations for Whole Dataset [Initial Baseline Model]\n",
    "#### Simple Train-Test-Split"
   ]
  },
  {
   "cell_type": "code",
   "execution_count": 133,
   "metadata": {},
   "outputs": [
    {
     "name": "stdout",
     "output_type": "stream",
     "text": [
      "Training Scores\n",
      "MSE Training: 11571.23572624471\n",
      "RMSE Training: 107.56967847049052\n",
      "Testing Scores\n",
      "MSE Testing: 38958.81658568011\n",
      "RMSE Testing: 197.3798788774583\n",
      "R-Squared Testing: 0.3521253755025406\n"
     ]
    }
   ],
   "source": [
    "feature_cols = ['tasmax_median', 'xhe_median', 'hwi_median']\n",
    "\n",
    "X = final_df.loc[:, feature_cols]\n",
    "y = final_df.loc[:, 'hospitalizations']\n",
    "\n",
    "X_train, X_test, y_train, y_test = train_test_split(X, y, random_state=123) \n",
    "\n",
    "lr_three_hosp = LinearRegression()\n",
    "lr_three_hosp.fit(X_train, y_train)\n",
    "\n",
    "y_pred = lr_three_hosp.predict(X_test)\n",
    "\n",
    "# MSE/RMSE on training set\n",
    "print('Training Scores')\n",
    "print('MSE Training:', metrics.mean_squared_error(y_train, lr_three_hosp.predict(X_train)))\n",
    "print('RMSE Training:', np.sqrt(metrics.mean_squared_error(y_train, lr_three_hosp.predict(X_train))))\n",
    "\n",
    "# MSE/RMSE on test set\n",
    "print('Testing Scores')\n",
    "print('MSE Testing:', metrics.mean_squared_error(y_test, y_pred))\n",
    "print('RMSE Testing:', np.sqrt(metrics.mean_squared_error(y_test, y_pred)))\n",
    "print('R-Squared Testing:', lr_three_hosp.score(X_test, y_test))"
   ]
  },
  {
   "cell_type": "markdown",
   "metadata": {},
   "source": [
    "When looking at these initial results, the testing errors are notably higher than the training errors, suggesting the model has a variance problem and is overfitting."
   ]
  },
  {
   "cell_type": "markdown",
   "metadata": {},
   "source": [
    "### All Three Climate Indicators + Number of Hospitalizations for Whole Dataset [Initial Baseline Model]\n",
    "#### K-Fold Cross Validation\n",
    "With $k=10$"
   ]
  },
  {
   "cell_type": "code",
   "execution_count": 134,
   "metadata": {},
   "outputs": [
    {
     "name": "stdout",
     "output_type": "stream",
     "text": [
      "MSE Training: [11551.607470244684, 17727.211538742944, 17423.884045390027, 18057.99395010049, 19178.96306540517, 19300.26627183328, 18398.570891094794, 19608.265204476957, 19215.289527529818, 19185.980116413455]\n",
      "RMSE Training: [107.47840466923894, 133.14357490597487, 131.9995607772618, 134.38003553393074, 138.48813330175682, 138.92539822449055, 135.64133179490238, 140.02951547612008, 138.61922495646056, 138.51346546965553]\n",
      "MSE Testing: [75862.2162278382, 22493.539419460332, 25483.0671479681, 18181.435601948448, 9057.522713201495, 6842.184680404508, 16731.603591923045, 3467.9783966958817, 7332.9487995539685, 7633.431517656232]\n",
      "RMSE Testing: [275.4309645407324, 149.97846318541983, 159.63416660592463, 134.83855384106005, 95.17101824190753, 82.71749923930551, 129.35070000553938, 58.88954403538782, 85.63263863477505, 87.36951137356917]\n"
     ]
    }
   ],
   "source": [
    "feature_cols = ['tasmax_median', 'xhe_median', 'hwi_median']\n",
    "X = final_df.loc[:, feature_cols]\n",
    "y = final_df.loc[:, 'hospitalizations']\n",
    "\n",
    "kf = model_selection.KFold(n_splits=10, shuffle=True)\n",
    "\n",
    "mse_training_values = []\n",
    "rmse_training_values = []\n",
    "mse_testing_values = []\n",
    "rmse_testing_values = []\n",
    "\n",
    "for train_indices, test_indices in kf.split(X, y):\n",
    "    lr = LinearRegression() \n",
    "    X_train = X.iloc[train_indices, :] \n",
    "    y_train = y.iloc[train_indices]\n",
    "    lr.fit(X_train, y_train) \n",
    "    \n",
    "    X_test = X.iloc[test_indices, :]\n",
    "    y_test = y.iloc[test_indices]\n",
    "    \n",
    "    y_pred = lr.predict(X_test)\n",
    "    \n",
    "    mse_train = metrics.mean_squared_error(y_train, lr.predict(X_train))\n",
    "    rmse_train = np.sqrt(metrics.mean_squared_error(y_train, lr.predict(X_train)))\n",
    "    mse_training_values.append(mse_train)\n",
    "    rmse_training_values.append(rmse_train)\n",
    "    \n",
    "    mse_test = metrics.mean_squared_error(y_test, y_pred)\n",
    "    rmse_test = np.sqrt(metrics.mean_squared_error(y_test, y_pred))\n",
    "    mse_testing_values.append(mse_test)\n",
    "    rmse_testing_values.append(rmse_test)\n",
    "\n",
    "print('MSE Training:', mse_training_values)\n",
    "print('RMSE Training:', rmse_training_values)\n",
    "print('MSE Testing:', mse_testing_values)\n",
    "print('RMSE Testing:', rmse_testing_values)"
   ]
  },
  {
   "cell_type": "markdown",
   "metadata": {},
   "source": [
    "#### Average MSE/RMSE from the K-Fold Cross Validation"
   ]
  },
  {
   "cell_type": "code",
   "execution_count": 135,
   "metadata": {},
   "outputs": [
    {
     "name": "stdout",
     "output_type": "stream",
     "text": [
      "Avg Train MSE: 17964.803208123165\n",
      "Avg Train RMSE: 133.7218645109792\n",
      "Avg Test MSE: 19308.592809665024\n",
      "Avg Test RMSE: 125.90130597036213\n"
     ]
    }
   ],
   "source": [
    "print('Avg Train MSE:', sum(mse_training_values)/float(len(mse_training_values)))\n",
    "print('Avg Train RMSE:', sum(rmse_training_values)/float(len(rmse_training_values)))\n",
    "print('Avg Test MSE:', sum(mse_testing_values)/float(len(mse_testing_values)))\n",
    "print('Avg Test RMSE:', sum(rmse_testing_values)/float(len(rmse_testing_values)))"
   ]
  },
  {
   "cell_type": "markdown",
   "metadata": {},
   "source": [
    "*Ensuring the cross_val_score method produces similar results for the test RMSE, which it does*"
   ]
  },
  {
   "cell_type": "code",
   "execution_count": 136,
   "metadata": {
    "scrolled": true
   },
   "outputs": [
    {
     "data": {
      "text/plain": [
       "125.19577980975355"
      ]
     },
     "execution_count": 136,
     "metadata": {},
     "output_type": "execute_result"
    }
   ],
   "source": [
    "scores = cross_val_score(lr, X, y, cv=10, scoring='neg_mean_squared_error')\n",
    "np.mean(np.sqrt(-scores))"
   ]
  },
  {
   "cell_type": "markdown",
   "metadata": {},
   "source": [
    "On one run, the MSE training values ranged from 10,616 to 19,816, while the MSE testing values ranged from 11,455 to 50,546. There is a notable difference in their ranges, suggesting high variance (and overfitting of the model)."
   ]
  },
  {
   "cell_type": "markdown",
   "metadata": {},
   "source": [
    "### All Three Climate Indicators + Number of Hospitalizations for Whole Dataset [Initial Baseline Model]\n",
    "#### Looking at the coefficients"
   ]
  },
  {
   "cell_type": "code",
   "execution_count": 57,
   "metadata": {},
   "outputs": [
    {
     "data": {
      "text/plain": [
       "[('tasmax_median', 15.36496677797666),\n",
       " ('xhe_median', -25.035458250038747),\n",
       " ('hwi_median', -1.648143892557055)]"
      ]
     },
     "execution_count": 57,
     "metadata": {},
     "output_type": "execute_result"
    }
   ],
   "source": [
    "list(zip(X.columns, lr_three_hosp.coef_))"
   ]
  },
  {
   "cell_type": "markdown",
   "metadata": {},
   "source": [
    "Seems odd. Model's prediction goes up with Average High Temperature, but down with Extreme Heat Events."
   ]
  },
  {
   "cell_type": "markdown",
   "metadata": {},
   "source": [
    "## Step 1, Continued: Establish a Baseline"
   ]
  },
  {
   "cell_type": "markdown",
   "metadata": {},
   "source": [
    "### All Three Climate Indicators + Hospitalization *Rate* for Whole Dataset [Initial Baseline Model]\n",
    "#### Simple Train-Test-Split"
   ]
  },
  {
   "cell_type": "code",
   "execution_count": 62,
   "metadata": {
    "scrolled": true
   },
   "outputs": [
    {
     "name": "stdout",
     "output_type": "stream",
     "text": [
      "Training Scores\n",
      "MSE Training: 2.5179291280944224e-06\n",
      "RMSE Training: 0.0015867983892399256\n",
      "Testing Scores\n",
      "MSE Testing: 1.621858858463727e-06\n",
      "RMSE Testing: 0.0012735222253513\n",
      "R-Squared Testing: -0.034406279792635885\n"
     ]
    }
   ],
   "source": [
    "feature_cols = ['tasmax_median', 'xhe_median', 'hwi_median']\n",
    "\n",
    "X = final_df.loc[:, feature_cols]\n",
    "y = final_df.loc[:, 'hosp_rate']\n",
    "\n",
    "X_train, X_test, y_train, y_test = train_test_split(X, y, random_state=123) \n",
    "\n",
    "lr_three_hosp_rate = LinearRegression()\n",
    "lr_three_hosp_rate.fit(X_train, y_train)\n",
    "\n",
    "y_pred = lr_three_hosp_rate.predict(X_test)\n",
    "\n",
    "# MSE/RMSE on training set\n",
    "print('Training Scores')\n",
    "print('MSE Training:', metrics.mean_squared_error(y_train, lr_three_hosp_rate.predict(X_train)))\n",
    "print('RMSE Training:', np.sqrt(metrics.mean_squared_error(y_train, lr_three_hosp_rate.predict(X_train))))\n",
    "\n",
    "# MSE/RMSE on test set\n",
    "print('Testing Scores')\n",
    "print('MSE Testing:', metrics.mean_squared_error(y_test, y_pred))\n",
    "print('RMSE Testing:', np.sqrt(metrics.mean_squared_error(y_test, y_pred)))\n",
    "print('R-Squared Testing:', lr_three_hosp_rate.score(X_test, y_test))"
   ]
  },
  {
   "cell_type": "markdown",
   "metadata": {},
   "source": [
    "### All Three Climate Indicators + Hospitalization *Rate* for Whole Dataset [Initial Baseline Model]\n",
    "#### K-Fold Cross Validation\n",
    "With $k=10$"
   ]
  },
  {
   "cell_type": "code",
   "execution_count": 108,
   "metadata": {},
   "outputs": [
    {
     "name": "stdout",
     "output_type": "stream",
     "text": [
      "MSE Training: [2.3394462264278158e-06, 2.498892550108392e-06, 2.4551014135322725e-06, 2.141518230317202e-06, 2.3541647436023873e-06, 2.4038728205019204e-06, 2.3318747312361956e-06, 1.6674256814923944e-06, 2.234538483261535e-06, 2.291968116251253e-06]\n",
      "RMSE Training: [0.0015295248368129939, 0.0015807885848867938, 0.0015668763236236203, 0.0014633927122673538, 0.0015343287599476154, 0.001550442782079339, 0.0015270477174064323, 0.001291288380452792, 0.0014948372765159206, 0.001513924739295601]\n",
      "MSE Testing: [1.799084300413467e-06, 4.392889374868008e-07, 9.106729917925961e-07, 3.504574695830238e-06, 1.65305062105802e-06, 1.206875250341789e-06, 1.8538663803653875e-06, 8.410968555031392e-06, 2.763789960863962e-06, 2.2089076924218267e-06]\n",
      "RMSE Testing: [0.0013412994819999994, 0.0006627887578156413, 0.0009542918797687614, 0.0018720509330224532, 0.0012857101621508715, 0.001098578741074935, 0.001361567618726807, 0.0029001669874390667, 0.0016624650254558626, 0.0014862394465300088]\n"
     ]
    }
   ],
   "source": [
    "feature_cols = ['tasmax_median', 'xhe_median', 'hwi_median']\n",
    "X = final_df.loc[:, feature_cols]\n",
    "y = final_df.loc[:, 'hosp_rate']\n",
    "\n",
    "kf = model_selection.KFold(n_splits=10, shuffle=True)\n",
    "\n",
    "mse_training_values = []\n",
    "rmse_training_values = []\n",
    "mse_testing_values = []\n",
    "rmse_testing_values = []\n",
    "\n",
    "for train_indices, test_indices in kf.split(X, y):\n",
    "    lr = LinearRegression() \n",
    "    X_train = X.iloc[train_indices, :] \n",
    "    y_train = y.iloc[train_indices]\n",
    "    lr.fit(X_train, y_train) \n",
    "    \n",
    "    X_test = X.iloc[test_indices, :]\n",
    "    y_test = y.iloc[test_indices]\n",
    "    \n",
    "    y_pred = lr.predict(X_test)\n",
    "    \n",
    "    mse_train = metrics.mean_squared_error(y_train, lr.predict(X_train))\n",
    "    rmse_train = np.sqrt(metrics.mean_squared_error(y_train, lr.predict(X_train)))\n",
    "    mse_training_values.append(mse_train)\n",
    "    rmse_training_values.append(rmse_train)\n",
    "    \n",
    "    mse_test = metrics.mean_squared_error(y_test, y_pred)\n",
    "    rmse_test = np.sqrt(metrics.mean_squared_error(y_test, y_pred))\n",
    "    mse_testing_values.append(mse_test)\n",
    "    rmse_testing_values.append(rmse_test)\n",
    "\n",
    "print('MSE Training:', mse_training_values)\n",
    "print('RMSE Training:', rmse_training_values)\n",
    "print('MSE Testing:', mse_testing_values)\n",
    "print('RMSE Testing:', rmse_testing_values)"
   ]
  },
  {
   "cell_type": "markdown",
   "metadata": {},
   "source": [
    "#### Average MSE/RMSE from the K-Fold Cross Validation"
   ]
  },
  {
   "cell_type": "code",
   "execution_count": 109,
   "metadata": {},
   "outputs": [
    {
     "name": "stdout",
     "output_type": "stream",
     "text": [
      "Avg Train MSE: 2.2718802996731367e-06\n",
      "Avg Train RMSE: 0.0015052452113288462\n",
      "Avg Test MSE: 2.475107938560548e-06\n",
      "Avg Test RMSE: 0.0014625159033984409\n"
     ]
    }
   ],
   "source": [
    "print('Avg Train MSE:', sum(mse_training_values)/float(len(mse_training_values)))\n",
    "print('Avg Train RMSE:', sum(rmse_training_values)/float(len(rmse_training_values)))\n",
    "print('Avg Test MSE:', sum(mse_testing_values)/float(len(mse_testing_values)))\n",
    "print('Avg Test RMSE:', sum(rmse_testing_values)/float(len(rmse_testing_values)))"
   ]
  },
  {
   "cell_type": "markdown",
   "metadata": {},
   "source": [
    "*Ensuring the cross_val_score method produces similar results for the test RMSE, which it does*"
   ]
  },
  {
   "cell_type": "code",
   "execution_count": 110,
   "metadata": {
    "scrolled": true
   },
   "outputs": [
    {
     "data": {
      "text/plain": [
       "0.0014380010252377316"
      ]
     },
     "execution_count": 110,
     "metadata": {},
     "output_type": "execute_result"
    }
   ],
   "source": [
    "scores = cross_val_score(lr, X, y, cv=10, scoring='neg_mean_squared_error')\n",
    "np.mean(np.sqrt(-scores))"
   ]
  },
  {
   "cell_type": "markdown",
   "metadata": {},
   "source": [
    "### All Three Climate Indicators + Hospitalization *Rate* for Whole Dataset [Initial Baseline Model]\n",
    "#### Looking at the coefficients"
   ]
  },
  {
   "cell_type": "code",
   "execution_count": 111,
   "metadata": {},
   "outputs": [
    {
     "data": {
      "text/plain": [
       "[('tasmax_median', 3.967581537023609e-05),\n",
       " ('xhe_median', -0.00013841925613242774),\n",
       " ('hwi_median', -0.00013536674305768677)]"
      ]
     },
     "execution_count": 111,
     "metadata": {},
     "output_type": "execute_result"
    }
   ],
   "source": [
    "list(zip(X.columns, lr_three_hosp_rate.coef_))"
   ]
  },
  {
   "cell_type": "code",
   "execution_count": null,
   "metadata": {},
   "outputs": [],
   "source": []
  },
  {
   "cell_type": "markdown",
   "metadata": {},
   "source": [
    "# Linear Regression, Continued"
   ]
  },
  {
   "cell_type": "markdown",
   "metadata": {},
   "source": [
    "## Step 2: Separate the Training and Testing Data\n",
    "### Train the Model on 2006-2009 Data and Test it on 2010 Data\n",
    "\n",
    "\n",
    "The ultimate goal of this model is to be able to train it on historical data and test it on future, projected climate scenarios. In order to do this, the model needs to be trained on data from one time period and tested on another. Since I have data from 2006-2010, I will manually separate the data into training (2006-2009) and testing (2010) sets.\n",
    "\n",
    "There are still several versions I want to test and compare, which I will do in the following order:\n",
    "- **Number of Hospitalizations**\n",
    "    - Null model (predicting `average` number of hospitalizations across dataset)\n",
    "    - 3 climate indicators (`tasmax`, `xhe`, `hwi`)\n",
    "    - 2 climate indicators (`tasmax`, `xhe`)\n",
    "    - 1 climate indicator (`tasmax`)\n",
    "- **Hospitalization Rate**\n",
    "    - Null model (predicting `average` hospitalization rate across dataset)\n",
    "    - 3 climate indicators (`tasmax`, `xhe`, `hwi`)\n",
    "    - 2 climate indicators (`tasmax`, `xhe`)\n",
    "    - 1 climate indicator (`tasmax`)\n",
    "    \n",
    "One caveat to this is that due to the way I'm manually separating the dataset by rows, I cannot do a k-fold cross validation. But I will evaluate model performance based on $MSE$, $RMSE$, and $R^2$"
   ]
  },
  {
   "cell_type": "markdown",
   "metadata": {},
   "source": [
    "### Separating the Data"
   ]
  },
  {
   "cell_type": "markdown",
   "metadata": {},
   "source": [
    "#### Training Set: 2006-2009"
   ]
  },
  {
   "cell_type": "code",
   "execution_count": 114,
   "metadata": {},
   "outputs": [
    {
     "name": "stdout",
     "output_type": "stream",
     "text": [
      "(92, 12)\n"
     ]
    },
    {
     "data": {
      "text/html": [
       "<div>\n",
       "<style scoped>\n",
       "    .dataframe tbody tr th:only-of-type {\n",
       "        vertical-align: middle;\n",
       "    }\n",
       "\n",
       "    .dataframe tbody tr th {\n",
       "        vertical-align: top;\n",
       "    }\n",
       "\n",
       "    .dataframe thead th {\n",
       "        text-align: right;\n",
       "    }\n",
       "</style>\n",
       "<table border=\"1\" class=\"dataframe\">\n",
       "  <thead>\n",
       "    <tr style=\"text-align: right;\">\n",
       "      <th></th>\n",
       "      <th>state</th>\n",
       "      <th>city</th>\n",
       "      <th>year</th>\n",
       "      <th>hospitalizations</th>\n",
       "      <th>azavea_id</th>\n",
       "      <th>latitude</th>\n",
       "      <th>longitude</th>\n",
       "      <th>population</th>\n",
       "      <th>tasmax_median</th>\n",
       "      <th>xhe_median</th>\n",
       "      <th>hwi_median</th>\n",
       "      <th>hosp_rate</th>\n",
       "    </tr>\n",
       "  </thead>\n",
       "  <tbody>\n",
       "    <tr>\n",
       "      <th>0</th>\n",
       "      <td>Arizona</td>\n",
       "      <td>Phoenix</td>\n",
       "      <td>2006</td>\n",
       "      <td>336.0</td>\n",
       "      <td>9</td>\n",
       "      <td>33.448</td>\n",
       "      <td>-112.097</td>\n",
       "      <td>1445632</td>\n",
       "      <td>87.646080</td>\n",
       "      <td>5.0</td>\n",
       "      <td>3.0</td>\n",
       "      <td>0.000232</td>\n",
       "    </tr>\n",
       "    <tr>\n",
       "      <th>1</th>\n",
       "      <td>Arizona</td>\n",
       "      <td>Phoenix</td>\n",
       "      <td>2007</td>\n",
       "      <td>312.0</td>\n",
       "      <td>9</td>\n",
       "      <td>33.448</td>\n",
       "      <td>-112.097</td>\n",
       "      <td>1445632</td>\n",
       "      <td>87.780368</td>\n",
       "      <td>7.0</td>\n",
       "      <td>2.0</td>\n",
       "      <td>0.000216</td>\n",
       "    </tr>\n",
       "    <tr>\n",
       "      <th>2</th>\n",
       "      <td>Arizona</td>\n",
       "      <td>Phoenix</td>\n",
       "      <td>2008</td>\n",
       "      <td>297.0</td>\n",
       "      <td>9</td>\n",
       "      <td>33.448</td>\n",
       "      <td>-112.097</td>\n",
       "      <td>1445632</td>\n",
       "      <td>87.860642</td>\n",
       "      <td>8.0</td>\n",
       "      <td>2.0</td>\n",
       "      <td>0.000205</td>\n",
       "    </tr>\n",
       "    <tr>\n",
       "      <th>3</th>\n",
       "      <td>Arizona</td>\n",
       "      <td>Phoenix</td>\n",
       "      <td>2009</td>\n",
       "      <td>378.0</td>\n",
       "      <td>9</td>\n",
       "      <td>33.448</td>\n",
       "      <td>-112.097</td>\n",
       "      <td>1445632</td>\n",
       "      <td>87.633112</td>\n",
       "      <td>10.0</td>\n",
       "      <td>2.0</td>\n",
       "      <td>0.000261</td>\n",
       "    </tr>\n",
       "    <tr>\n",
       "      <th>5</th>\n",
       "      <td>California</td>\n",
       "      <td>Sacramento</td>\n",
       "      <td>2006</td>\n",
       "      <td>1100.0</td>\n",
       "      <td>41</td>\n",
       "      <td>38.577</td>\n",
       "      <td>-121.494</td>\n",
       "      <td>466488</td>\n",
       "      <td>75.991388</td>\n",
       "      <td>8.5</td>\n",
       "      <td>3.0</td>\n",
       "      <td>0.002358</td>\n",
       "    </tr>\n",
       "  </tbody>\n",
       "</table>\n",
       "</div>"
      ],
      "text/plain": [
       "        state        city  year  hospitalizations  azavea_id  latitude  \\\n",
       "0     Arizona     Phoenix  2006             336.0          9    33.448   \n",
       "1     Arizona     Phoenix  2007             312.0          9    33.448   \n",
       "2     Arizona     Phoenix  2008             297.0          9    33.448   \n",
       "3     Arizona     Phoenix  2009             378.0          9    33.448   \n",
       "5  California  Sacramento  2006            1100.0         41    38.577   \n",
       "\n",
       "   longitude  population  tasmax_median  xhe_median  hwi_median  hosp_rate  \n",
       "0   -112.097     1445632      87.646080         5.0         3.0   0.000232  \n",
       "1   -112.097     1445632      87.780368         7.0         2.0   0.000216  \n",
       "2   -112.097     1445632      87.860642         8.0         2.0   0.000205  \n",
       "3   -112.097     1445632      87.633112        10.0         2.0   0.000261  \n",
       "5   -121.494      466488      75.991388         8.5         3.0   0.002358  "
      ]
     },
     "execution_count": 114,
     "metadata": {},
     "output_type": "execute_result"
    }
   ],
   "source": [
    "years_2006_2009 = final_df.loc[:, 'year'] < 2010\n",
    "print(final_df.loc[years_2006_2009, :].shape)\n",
    "final_df.loc[years_2006_2009, :].head()"
   ]
  },
  {
   "cell_type": "code",
   "execution_count": 115,
   "metadata": {},
   "outputs": [
    {
     "data": {
      "text/plain": [
       "0.8"
      ]
     },
     "execution_count": 115,
     "metadata": {},
     "output_type": "execute_result"
    }
   ],
   "source": [
    "92/115 # Calculating amount of training data (80%)"
   ]
  },
  {
   "cell_type": "markdown",
   "metadata": {},
   "source": [
    "#### Testing Set: 2010"
   ]
  },
  {
   "cell_type": "code",
   "execution_count": 116,
   "metadata": {},
   "outputs": [
    {
     "name": "stdout",
     "output_type": "stream",
     "text": [
      "(23, 12)\n"
     ]
    },
    {
     "data": {
      "text/html": [
       "<div>\n",
       "<style scoped>\n",
       "    .dataframe tbody tr th:only-of-type {\n",
       "        vertical-align: middle;\n",
       "    }\n",
       "\n",
       "    .dataframe tbody tr th {\n",
       "        vertical-align: top;\n",
       "    }\n",
       "\n",
       "    .dataframe thead th {\n",
       "        text-align: right;\n",
       "    }\n",
       "</style>\n",
       "<table border=\"1\" class=\"dataframe\">\n",
       "  <thead>\n",
       "    <tr style=\"text-align: right;\">\n",
       "      <th></th>\n",
       "      <th>state</th>\n",
       "      <th>city</th>\n",
       "      <th>year</th>\n",
       "      <th>hospitalizations</th>\n",
       "      <th>azavea_id</th>\n",
       "      <th>latitude</th>\n",
       "      <th>longitude</th>\n",
       "      <th>population</th>\n",
       "      <th>tasmax_median</th>\n",
       "      <th>xhe_median</th>\n",
       "      <th>hwi_median</th>\n",
       "      <th>hosp_rate</th>\n",
       "    </tr>\n",
       "  </thead>\n",
       "  <tbody>\n",
       "    <tr>\n",
       "      <th>4</th>\n",
       "      <td>Arizona</td>\n",
       "      <td>Phoenix</td>\n",
       "      <td>2010</td>\n",
       "      <td>453.0</td>\n",
       "      <td>9</td>\n",
       "      <td>33.448</td>\n",
       "      <td>-112.097</td>\n",
       "      <td>1445632</td>\n",
       "      <td>87.822657</td>\n",
       "      <td>7.0</td>\n",
       "      <td>3.0</td>\n",
       "      <td>0.000313</td>\n",
       "    </tr>\n",
       "    <tr>\n",
       "      <th>9</th>\n",
       "      <td>California</td>\n",
       "      <td>Sacramento</td>\n",
       "      <td>2010</td>\n",
       "      <td>503.0</td>\n",
       "      <td>41</td>\n",
       "      <td>38.577</td>\n",
       "      <td>-121.494</td>\n",
       "      <td>466488</td>\n",
       "      <td>75.655707</td>\n",
       "      <td>7.0</td>\n",
       "      <td>3.0</td>\n",
       "      <td>0.001078</td>\n",
       "    </tr>\n",
       "    <tr>\n",
       "      <th>14</th>\n",
       "      <td>Colorado</td>\n",
       "      <td>Denver</td>\n",
       "      <td>2010</td>\n",
       "      <td>37.0</td>\n",
       "      <td>30</td>\n",
       "      <td>39.739</td>\n",
       "      <td>-104.985</td>\n",
       "      <td>682545</td>\n",
       "      <td>66.052095</td>\n",
       "      <td>9.5</td>\n",
       "      <td>4.0</td>\n",
       "      <td>0.000054</td>\n",
       "    </tr>\n",
       "    <tr>\n",
       "      <th>19</th>\n",
       "      <td>Connecticut</td>\n",
       "      <td>Hartford</td>\n",
       "      <td>2010</td>\n",
       "      <td>86.0</td>\n",
       "      <td>1653</td>\n",
       "      <td>41.764</td>\n",
       "      <td>-72.682</td>\n",
       "      <td>124006</td>\n",
       "      <td>61.796060</td>\n",
       "      <td>8.5</td>\n",
       "      <td>3.0</td>\n",
       "      <td>0.000694</td>\n",
       "    </tr>\n",
       "    <tr>\n",
       "      <th>24</th>\n",
       "      <td>Florida</td>\n",
       "      <td>Tallahassee</td>\n",
       "      <td>2010</td>\n",
       "      <td>856.0</td>\n",
       "      <td>138</td>\n",
       "      <td>30.438</td>\n",
       "      <td>-84.281</td>\n",
       "      <td>189907</td>\n",
       "      <td>79.955989</td>\n",
       "      <td>4.5</td>\n",
       "      <td>1.0</td>\n",
       "      <td>0.004507</td>\n",
       "    </tr>\n",
       "  </tbody>\n",
       "</table>\n",
       "</div>"
      ],
      "text/plain": [
       "          state         city  year  hospitalizations  azavea_id  latitude  \\\n",
       "4       Arizona      Phoenix  2010             453.0          9    33.448   \n",
       "9    California   Sacramento  2010             503.0         41    38.577   \n",
       "14     Colorado       Denver  2010              37.0         30    39.739   \n",
       "19  Connecticut     Hartford  2010              86.0       1653    41.764   \n",
       "24      Florida  Tallahassee  2010             856.0        138    30.438   \n",
       "\n",
       "    longitude  population  tasmax_median  xhe_median  hwi_median  hosp_rate  \n",
       "4    -112.097     1445632      87.822657         7.0         3.0   0.000313  \n",
       "9    -121.494      466488      75.655707         7.0         3.0   0.001078  \n",
       "14   -104.985      682545      66.052095         9.5         4.0   0.000054  \n",
       "19    -72.682      124006      61.796060         8.5         3.0   0.000694  \n",
       "24    -84.281      189907      79.955989         4.5         1.0   0.004507  "
      ]
     },
     "execution_count": 116,
     "metadata": {},
     "output_type": "execute_result"
    }
   ],
   "source": [
    "years_2010 = final_df.loc[:, 'year'] == 2010\n",
    "print(final_df.loc[years_2010, :].shape)\n",
    "final_df.loc[years_2010, :].head()"
   ]
  },
  {
   "cell_type": "code",
   "execution_count": 117,
   "metadata": {
    "scrolled": true
   },
   "outputs": [
    {
     "data": {
      "text/plain": [
       "0.2"
      ]
     },
     "execution_count": 117,
     "metadata": {},
     "output_type": "execute_result"
    }
   ],
   "source": [
    "23/115 # Calculating amount of testing data (20%)"
   ]
  },
  {
   "cell_type": "markdown",
   "metadata": {},
   "source": [
    "### Number of Hospitalizations"
   ]
  },
  {
   "cell_type": "markdown",
   "metadata": {},
   "source": [
    "#### Establishing a Null Model"
   ]
  },
  {
   "cell_type": "code",
   "execution_count": 127,
   "metadata": {},
   "outputs": [
    {
     "data": {
      "text/plain": [
       "151.56521739130434"
      ]
     },
     "execution_count": 127,
     "metadata": {},
     "output_type": "execute_result"
    }
   ],
   "source": [
    "y = final_df.loc[:, 'hospitalizations']\n",
    "np.mean(y)"
   ]
  },
  {
   "cell_type": "code",
   "execution_count": 128,
   "metadata": {},
   "outputs": [
    {
     "name": "stdout",
     "output_type": "stream",
     "text": [
      "Null MSE: 35068.106616257086\n",
      "Null RMSE: 187.26480346359025\n"
     ]
    }
   ],
   "source": [
    "null_pred = np.zeros(len(y)) + y.mean()\n",
    "null_mse = metrics.mean_squared_error(null_pred, y)\n",
    "null_rmse = np.sqrt(metrics.mean_squared_error(null_pred, y))\n",
    "print('Null MSE:', null_mse)\n",
    "print('Null RMSE:', null_rmse)"
   ]
  },
  {
   "cell_type": "markdown",
   "metadata": {},
   "source": [
    "#### All Three Climate Indicators + Number of Hospitalizations"
   ]
  },
  {
   "cell_type": "code",
   "execution_count": 143,
   "metadata": {},
   "outputs": [
    {
     "name": "stdout",
     "output_type": "stream",
     "text": [
      "3 Climate Indicators Training Scores\n",
      "MSE Training: 17405.40652526888\n",
      "RMSE Training: 131.92955137219593\n",
      "3 Climate Indicators Testing Scores\n",
      "MSE Testing: 22236.6243214747\n",
      "RMSE Testing: 149.11949678521148\n",
      "R-Squared Testing: 0.4931306161868442\n"
     ]
    }
   ],
   "source": [
    "feature_cols = ['tasmax_median', 'xhe_median', 'hwi_median']\n",
    "\n",
    "X = final_df.loc[:, feature_cols]\n",
    "y = final_df.loc[:, 'hospitalizations']\n",
    "\n",
    "# Manually split up data into training (2006-2009) and testing (2010)\n",
    "X_train = final_df.loc[years_2006_2009, feature_cols]\n",
    "X_test = final_df.loc[years_2010, feature_cols]\n",
    "y_train = final_df.loc[years_2006_2009, 'hospitalizations']\n",
    "y_test = final_df.loc[years_2010, 'hospitalizations']\n",
    "\n",
    "lr_three_hosp = LinearRegression()\n",
    "lr_three_hosp.fit(X_train, y_train)\n",
    "\n",
    "y_pred = lr_three_hosp.predict(X_test)\n",
    "\n",
    "# MSE/RMSE on training set\n",
    "print('3 Climate Indicators Training Scores')\n",
    "print('MSE Training:', metrics.mean_squared_error(y_train, lr_three_hosp.predict(X_train)))\n",
    "print('RMSE Training:', np.sqrt(metrics.mean_squared_error(y_train, lr_three_hosp.predict(X_train))))\n",
    "\n",
    "# MSE/RMSE on test set\n",
    "print('3 Climate Indicators Testing Scores')\n",
    "print('MSE Testing:', metrics.mean_squared_error(y_test, y_pred))\n",
    "print('RMSE Testing:', np.sqrt(metrics.mean_squared_error(y_test, y_pred)))\n",
    "print('R-Squared Testing:', lr_three_hosp.score(X_test, y_test))"
   ]
  },
  {
   "cell_type": "markdown",
   "metadata": {},
   "source": [
    "#### Two Climate Indicators + Number of Hospitalizations"
   ]
  },
  {
   "cell_type": "code",
   "execution_count": 144,
   "metadata": {},
   "outputs": [
    {
     "name": "stdout",
     "output_type": "stream",
     "text": [
      "Average High Temp + Extreme Heat Events Training Scores\n",
      "MSE Training: 17421.796258116643\n",
      "RMSE Training: 131.99165222890667\n",
      "Average High Temp + Extreme Heat Events Testing Scores\n",
      "MSE Testing: 22150.465937938396\n",
      "RMSE Testing: 148.830326002258\n",
      "R-Squared Testing: 0.4950945404831777\n"
     ]
    }
   ],
   "source": [
    "feature_cols = ['tasmax_median', 'xhe_median']\n",
    "\n",
    "X = final_df.loc[:, feature_cols]\n",
    "y = final_df.loc[:, 'hospitalizations']\n",
    "\n",
    "# Manually split up data into training (2006-2009) and testing (2010)\n",
    "X_train = final_df.loc[years_2006_2009, feature_cols]\n",
    "X_test = final_df.loc[years_2010, feature_cols]\n",
    "y_train = final_df.loc[years_2006_2009, 'hospitalizations']\n",
    "y_test = final_df.loc[years_2010, 'hospitalizations']\n",
    "\n",
    "lr_tasmax_xhe_hosp = LinearRegression()\n",
    "lr_tasmax_xhe_hosp.fit(X_train, y_train)\n",
    "\n",
    "y_pred = lr_tasmax_xhe_hosp.predict(X_test)\n",
    "\n",
    "# MSE/RMSE on training set\n",
    "print('Average High Temp + Extreme Heat Events Training Scores')\n",
    "print('MSE Training:', metrics.mean_squared_error(y_train, lr_tasmax_xhe_hosp.predict(X_train)))\n",
    "print('RMSE Training:', np.sqrt(metrics.mean_squared_error(y_train, lr_tasmax_xhe_hosp.predict(X_train))))\n",
    "\n",
    "# MSE/RMSE on test set\n",
    "print('Average High Temp + Extreme Heat Events Testing Scores')\n",
    "print('MSE Testing:', metrics.mean_squared_error(y_test, y_pred))\n",
    "print('RMSE Testing:', np.sqrt(metrics.mean_squared_error(y_test, y_pred)))\n",
    "print('R-Squared Testing:', lr_tasmax_xhe_hosp.score(X_test, y_test))"
   ]
  },
  {
   "cell_type": "markdown",
   "metadata": {},
   "source": [
    "#### Average High Temperature + Number of Hospitalizations"
   ]
  },
  {
   "cell_type": "code",
   "execution_count": 145,
   "metadata": {},
   "outputs": [
    {
     "name": "stdout",
     "output_type": "stream",
     "text": [
      "Average High Temp Training Scores\n",
      "MSE Training: 17555.229286338745\n",
      "RMSE Training: 132.49614819434845\n",
      "Average High Temp Testing Scores\n",
      "MSE Testing: 23634.70598263178\n",
      "RMSE Testing: 153.73583181103805\n",
      "R-Squared Testing: 0.46126225434080625\n"
     ]
    }
   ],
   "source": [
    "feature_cols = ['tasmax_median']\n",
    "\n",
    "X = final_df.loc[:, feature_cols]\n",
    "y = final_df.loc[:, 'hospitalizations']\n",
    "\n",
    "# Manually split up data into training (2006-2009) and testing (2010)\n",
    "X_train = final_df.loc[years_2006_2009, feature_cols]\n",
    "X_test = final_df.loc[years_2010, feature_cols]\n",
    "y_train = final_df.loc[years_2006_2009, 'hospitalizations']\n",
    "y_test = final_df.loc[years_2010, 'hospitalizations']\n",
    "\n",
    "lr_tasmax_hosp = LinearRegression()\n",
    "lr_tasmax_hosp.fit(X_train, y_train)\n",
    "\n",
    "y_pred = lr_tasmax_hosp.predict(X_test)\n",
    "\n",
    "# MSE/RMSE on training set\n",
    "print('Average High Temp Training Scores')\n",
    "print('MSE Training:', metrics.mean_squared_error(y_train, lr_tasmax_hosp.predict(X_train)))\n",
    "print('RMSE Training:', np.sqrt(metrics.mean_squared_error(y_train, lr_tasmax_hosp.predict(X_train))))\n",
    "\n",
    "# MSE/RMSE on test set\n",
    "print('Average High Temp Testing Scores')\n",
    "print('MSE Testing:', metrics.mean_squared_error(y_test, y_pred))\n",
    "print('RMSE Testing:', np.sqrt(metrics.mean_squared_error(y_test, y_pred)))\n",
    "print('R-Squared Testing:', lr_tasmax_hosp.score(X_test, y_test))"
   ]
  },
  {
   "cell_type": "markdown",
   "metadata": {},
   "source": [
    "### Number of Hospitalizations: Summary"
   ]
  },
  {
   "cell_type": "code",
   "execution_count": 142,
   "metadata": {},
   "outputs": [
    {
     "data": {
      "text/html": [
       "<div>\n",
       "<style scoped>\n",
       "    .dataframe tbody tr th:only-of-type {\n",
       "        vertical-align: middle;\n",
       "    }\n",
       "\n",
       "    .dataframe tbody tr th {\n",
       "        vertical-align: top;\n",
       "    }\n",
       "\n",
       "    .dataframe thead th {\n",
       "        text-align: right;\n",
       "    }\n",
       "</style>\n",
       "<table border=\"1\" class=\"dataframe\">\n",
       "  <thead>\n",
       "    <tr style=\"text-align: right;\">\n",
       "      <th></th>\n",
       "      <th>Baseline Model</th>\n",
       "      <th>Null Model</th>\n",
       "      <th>tasmax + xhe</th>\n",
       "      <th>tasmax + xhe + hwi</th>\n",
       "      <th>tasmax only</th>\n",
       "    </tr>\n",
       "  </thead>\n",
       "  <tbody>\n",
       "    <tr>\n",
       "      <th>0</th>\n",
       "      <td>125.901</td>\n",
       "      <td>187.265</td>\n",
       "      <td>148.83</td>\n",
       "      <td>149.119</td>\n",
       "      <td>153.736</td>\n",
       "    </tr>\n",
       "  </tbody>\n",
       "</table>\n",
       "</div>"
      ],
      "text/plain": [
       "   Baseline Model  Null Model  tasmax + xhe  tasmax + xhe + hwi  tasmax only\n",
       "0         125.901     187.265        148.83             149.119      153.736"
      ]
     },
     "execution_count": 142,
     "metadata": {},
     "output_type": "execute_result"
    }
   ],
   "source": [
    "hosp_compare_rmse_df = {'Null Model': [187.265], \n",
    "                        'tasmax + xhe + hwi': [149.119], \n",
    "                        'tasmax + xhe': [148.830], \n",
    "                        'tasmax only': [153.736], \n",
    "                        'Baseline Model': [125.901]}\n",
    "hosp_compare_rmse_df = pd.DataFrame(data=hosp_compare_rmse_df)\n",
    "hosp_compare_rmse_df"
   ]
  },
  {
   "cell_type": "markdown",
   "metadata": {},
   "source": [
    "Based on these model runs, the Baseline Model (using all of the data, 2006-2010) has the lowest $RMSE$. But, it is important that this model be able to predict data for new *years*. This does indicate that the model may do better with more data. Thankfully, all of the models performed better than the null model, indicating they have *some* predictive power. Of the sets of variables tested, the combination of Average High Temperature and Extreme Heat Events seemed to work the best, but only nominally better than the model with all three variables combined."
   ]
  },
  {
   "cell_type": "code",
   "execution_count": null,
   "metadata": {},
   "outputs": [],
   "source": []
  },
  {
   "cell_type": "markdown",
   "metadata": {},
   "source": [
    "### Hospitalization Rate"
   ]
  },
  {
   "cell_type": "markdown",
   "metadata": {},
   "source": [
    "#### Establishing a Null Model"
   ]
  },
  {
   "cell_type": "code",
   "execution_count": 146,
   "metadata": {},
   "outputs": [
    {
     "data": {
      "text/plain": [
       "0.0010936075213754325"
      ]
     },
     "execution_count": 146,
     "metadata": {},
     "output_type": "execute_result"
    }
   ],
   "source": [
    "y = final_df.loc[:, 'hosp_rate']\n",
    "np.mean(y)"
   ]
  },
  {
   "cell_type": "code",
   "execution_count": 147,
   "metadata": {},
   "outputs": [
    {
     "name": "stdout",
     "output_type": "stream",
     "text": [
      "Null MSE: 2.4101402009581642e-06\n",
      "Null RMSE: 0.0015524626246574069\n"
     ]
    }
   ],
   "source": [
    "null_pred = np.zeros(len(y)) + y.mean()\n",
    "null_mse = metrics.mean_squared_error(null_pred, y)\n",
    "null_rmse = np.sqrt(metrics.mean_squared_error(null_pred, y))\n",
    "print('Null MSE:', null_mse)\n",
    "print('Null RMSE:', null_rmse)"
   ]
  },
  {
   "cell_type": "markdown",
   "metadata": {},
   "source": [
    "#### All Three Climate Indicators + Hospitalization Rate"
   ]
  },
  {
   "cell_type": "code",
   "execution_count": 149,
   "metadata": {},
   "outputs": [
    {
     "name": "stdout",
     "output_type": "stream",
     "text": [
      "3 Climate Indicators Training Scores\n",
      "MSE Training: 1.744906719221031e-06\n",
      "RMSE Training: 0.001320949173594893\n",
      "3 Climate Indicators Testing Scores\n",
      "MSE Testing: 4.538853989998032e-06\n",
      "RMSE Testing: 0.002130458633721395\n",
      "R-Squared Testing: -0.04278161536313618\n"
     ]
    }
   ],
   "source": [
    "feature_cols = ['tasmax_median', 'xhe_median', 'hwi_median']\n",
    "\n",
    "X = final_df.loc[:, feature_cols]\n",
    "y = final_df.loc[:, 'hosp_rate']\n",
    "\n",
    "# Manually split up data into training (2006-2009) and testing (2010)\n",
    "X_train = final_df.loc[years_2006_2009, feature_cols]\n",
    "X_test = final_df.loc[years_2010, feature_cols]\n",
    "y_train = final_df.loc[years_2006_2009, 'hosp_rate']\n",
    "y_test = final_df.loc[years_2010, 'hosp_rate']\n",
    "\n",
    "lr_three_hosp_rate = LinearRegression()\n",
    "lr_three_hosp_rate.fit(X_train, y_train)\n",
    "\n",
    "y_pred = lr_three_hosp_rate.predict(X_test)\n",
    "\n",
    "# MSE/RMSE on training set\n",
    "print('3 Climate Indicators Training Scores')\n",
    "print('MSE Training:', metrics.mean_squared_error(y_train, lr_three_hosp_rate.predict(X_train)))\n",
    "print('RMSE Training:', np.sqrt(metrics.mean_squared_error(y_train, lr_three_hosp_rate.predict(X_train))))\n",
    "\n",
    "# MSE/RMSE on test set\n",
    "print('3 Climate Indicators Testing Scores')\n",
    "print('MSE Testing:', metrics.mean_squared_error(y_test, y_pred))\n",
    "print('RMSE Testing:', np.sqrt(metrics.mean_squared_error(y_test, y_pred)))\n",
    "print('R-Squared Testing:', lr_three_hosp_rate.score(X_test, y_test))"
   ]
  },
  {
   "cell_type": "markdown",
   "metadata": {},
   "source": [
    "#### Two Climate Indicators + Hospitalization Rate"
   ]
  },
  {
   "cell_type": "code",
   "execution_count": 150,
   "metadata": {
    "scrolled": true
   },
   "outputs": [
    {
     "name": "stdout",
     "output_type": "stream",
     "text": [
      "Average High Temp + Extreme Heat Events Training Scores\n",
      "MSE Training: 1.7903183126534537e-06\n",
      "RMSE Training: 0.0013380277697616944\n",
      "Average High Temp + Extreme Heat Events Testing Scores\n",
      "MSE Testing: 4.511672651311276e-06\n",
      "RMSE Testing: 0.0021240698320232495\n",
      "R-Squared Testing: -0.03653682310368733\n"
     ]
    }
   ],
   "source": [
    "feature_cols = ['tasmax_median', 'xhe_median']\n",
    "\n",
    "X = final_df.loc[:, feature_cols]\n",
    "y = final_df.loc[:, 'hosp_rate']\n",
    "\n",
    "# Manually split up data into training (2006-2009) and testing (2010)\n",
    "X_train = final_df.loc[years_2006_2009, feature_cols]\n",
    "X_test = final_df.loc[years_2010, feature_cols]\n",
    "y_train = final_df.loc[years_2006_2009, 'hosp_rate']\n",
    "y_test = final_df.loc[years_2010, 'hosp_rate']\n",
    "\n",
    "lr_tasmax_xhe_hosp_rate = LinearRegression()\n",
    "lr_tasmax_xhe_hosp_rate.fit(X_train, y_train)\n",
    "\n",
    "y_pred = lr_tasmax_xhe_hosp_rate.predict(X_test)\n",
    "\n",
    "# MSE/RMSE on training set\n",
    "print('Average High Temp + Extreme Heat Events Training Scores')\n",
    "print('MSE Training:', metrics.mean_squared_error(y_train, lr_tasmax_xhe_hosp_rate.predict(X_train)))\n",
    "print('RMSE Training:', np.sqrt(metrics.mean_squared_error(y_train, lr_tasmax_xhe_hosp_rate.predict(X_train))))\n",
    "\n",
    "# MSE/RMSE on test set\n",
    "print('Average High Temp + Extreme Heat Events Testing Scores')\n",
    "print('MSE Testing:', metrics.mean_squared_error(y_test, y_pred))\n",
    "print('RMSE Testing:', np.sqrt(metrics.mean_squared_error(y_test, y_pred)))\n",
    "print('R-Squared Testing:', lr_tasmax_xhe_hosp_rate.score(X_test, y_test))"
   ]
  },
  {
   "cell_type": "markdown",
   "metadata": {},
   "source": [
    "#### Average High Temperature + Hospitalization Rate"
   ]
  },
  {
   "cell_type": "code",
   "execution_count": 151,
   "metadata": {},
   "outputs": [
    {
     "name": "stdout",
     "output_type": "stream",
     "text": [
      "Average High Temp Training Scores\n",
      "MSE Training: 1.7969620042113065e-06\n",
      "RMSE Training: 0.0013405081141907745\n",
      "Average High Temp Testing Scores\n",
      "MSE Testing: 4.588871739869111e-06\n",
      "RMSE Testing: 0.002142165199014565\n",
      "R-Squared Testing: -0.05427297201887549\n"
     ]
    }
   ],
   "source": [
    "feature_cols = ['tasmax_median']\n",
    "\n",
    "X = final_df.loc[:, feature_cols]\n",
    "y = final_df.loc[:, 'hosp_rate']\n",
    "\n",
    "# Manually split up data into training (2006-2009) and testing (2010)\n",
    "X_train = final_df.loc[years_2006_2009, feature_cols]\n",
    "X_test = final_df.loc[years_2010, feature_cols]\n",
    "y_train = final_df.loc[years_2006_2009, 'hosp_rate']\n",
    "y_test = final_df.loc[years_2010, 'hosp_rate']\n",
    "\n",
    "lr_tasmax_hosp_rate = LinearRegression()\n",
    "lr_tasmax_hosp_rate.fit(X_train, y_train)\n",
    "\n",
    "y_pred = lr_tasmax_hosp_rate.predict(X_test)\n",
    "\n",
    "# MSE/RMSE on training set\n",
    "print('Average High Temp Training Scores')\n",
    "print('MSE Training:', metrics.mean_squared_error(y_train, lr_tasmax_hosp_rate.predict(X_train)))\n",
    "print('RMSE Training:', np.sqrt(metrics.mean_squared_error(y_train, lr_tasmax_hosp_rate.predict(X_train))))\n",
    "\n",
    "# MSE/RMSE on test set\n",
    "print('Average High Temp Testing Scores')\n",
    "print('MSE Testing:', metrics.mean_squared_error(y_test, y_pred))\n",
    "print('RMSE Testing:', np.sqrt(metrics.mean_squared_error(y_test, y_pred)))\n",
    "print('R-Squared Testing:', lr_tasmax_hosp_rate.score(X_test, y_test))"
   ]
  },
  {
   "cell_type": "markdown",
   "metadata": {},
   "source": [
    "### Hospitalization Rate: Summary"
   ]
  },
  {
   "cell_type": "code",
   "execution_count": 152,
   "metadata": {},
   "outputs": [
    {
     "data": {
      "text/html": [
       "<div>\n",
       "<style scoped>\n",
       "    .dataframe tbody tr th:only-of-type {\n",
       "        vertical-align: middle;\n",
       "    }\n",
       "\n",
       "    .dataframe tbody tr th {\n",
       "        vertical-align: top;\n",
       "    }\n",
       "\n",
       "    .dataframe thead th {\n",
       "        text-align: right;\n",
       "    }\n",
       "</style>\n",
       "<table border=\"1\" class=\"dataframe\">\n",
       "  <thead>\n",
       "    <tr style=\"text-align: right;\">\n",
       "      <th></th>\n",
       "      <th>Baseline Model</th>\n",
       "      <th>Null Model</th>\n",
       "      <th>tasmax + xhe</th>\n",
       "      <th>tasmax + xhe + hwi</th>\n",
       "      <th>tasmax only</th>\n",
       "    </tr>\n",
       "  </thead>\n",
       "  <tbody>\n",
       "    <tr>\n",
       "      <th>0</th>\n",
       "      <td>0.00146</td>\n",
       "      <td>0.00155</td>\n",
       "      <td>0.00212</td>\n",
       "      <td>0.00213</td>\n",
       "      <td>0.00214</td>\n",
       "    </tr>\n",
       "  </tbody>\n",
       "</table>\n",
       "</div>"
      ],
      "text/plain": [
       "   Baseline Model  Null Model  tasmax + xhe  tasmax + xhe + hwi  tasmax only\n",
       "0         0.00146     0.00155       0.00212             0.00213      0.00214"
      ]
     },
     "execution_count": 152,
     "metadata": {},
     "output_type": "execute_result"
    }
   ],
   "source": [
    "hosp_rate_compare_rmse_df = {'Null Model': [0.00155], \n",
    "                        'tasmax + xhe + hwi': [0.00213], \n",
    "                        'tasmax + xhe': [0.00212], \n",
    "                        'tasmax only': [0.00214], \n",
    "                        'Baseline Model': [0.00146]}\n",
    "hosp_compare_rate_rmse_df = pd.DataFrame(data=hosp_rate_compare_rmse_df)\n",
    "hosp_compare_rate_rmse_df"
   ]
  },
  {
   "cell_type": "markdown",
   "metadata": {},
   "source": [
    "Interestingly, the models using the hospitalization rate performed horribly - worse than the null model. "
   ]
  },
  {
   "cell_type": "markdown",
   "metadata": {},
   "source": [
    "# Linear Regression: Summary\n",
    "\n",
    "*Pasted from Above:*\n",
    "\n",
    "Average High Temp + Extreme Heat Events Training Scores\n",
    "- MSE Training: 17421.796258116643\n",
    "- RMSE Training: 131.99165222890667\n",
    "\n",
    "Average High Temp + Extreme Heat Events Testing Scores\n",
    "- MSE Testing: 22150.465937938396\n",
    "- RMSE Testing: 148.830326002258\n",
    "- R-Squared Testing: 0.4950945404831777\n",
    "\n",
    "The best-performing Linear Regression model was the model predicting number of hospitalizations based on Average High Temperature and Extreme Heat Events. The testing error is larger than the training error, indicating overfitting. But the model still performed better than the null model, indicating is has some predictive capabilities.\n",
    "\n",
    "But, overall, the model has a reasonably high training error, indicating a bias problem, and a gap between the training and testing error, indicating a variance problem. It's an overly simplified model that could greatly benefit from more data. "
   ]
  },
  {
   "cell_type": "code",
   "execution_count": null,
   "metadata": {},
   "outputs": [],
   "source": []
  },
  {
   "cell_type": "markdown",
   "metadata": {},
   "source": [
    "It's worth testing a random forest model too... "
   ]
  },
  {
   "cell_type": "markdown",
   "metadata": {},
   "source": [
    "# Random Forest Regression"
   ]
  },
  {
   "cell_type": "markdown",
   "metadata": {},
   "source": [
    "## Step 1: Establish a Baseline\n",
    "### Test a random forest regression model on the dataset *as is*, with all years. \n",
    "\n",
    "For this initial simplified model:\n",
    "- Use all three climate variables for number of hospitalizations\n",
    "- Do a simple train-test-split and evaluate with k-fold cross validation"
   ]
  },
  {
   "cell_type": "markdown",
   "metadata": {},
   "source": [
    "### All Three Climate Indicators +  *Number* of Hospitalizations for Whole Dataset [Initial Baseline Model]\n",
    "#### Simple Train-Test-Split"
   ]
  },
  {
   "cell_type": "code",
   "execution_count": 220,
   "metadata": {},
   "outputs": [],
   "source": [
    "feature_cols = ['tasmax_median', 'xhe_median', 'hwi_median']\n",
    "\n",
    "X = final_df.loc[:, feature_cols]\n",
    "y = final_df.loc[:, 'hospitalizations']\n",
    "\n",
    "X_train, X_test, y_train, y_test = train_test_split(X, y, random_state=123) \n",
    "\n",
    "rfreg_three_hosp = RandomForestRegressor(n_estimators=150, max_features=3, oob_score=True, random_state=1)\n",
    "rfreg_three_hosp.fit(X_train, y_train)\n",
    "\n",
    "y_pred = rfreg_three_hosp.predict(X_test)"
   ]
  },
  {
   "cell_type": "markdown",
   "metadata": {},
   "source": [
    "#### Feature Importances"
   ]
  },
  {
   "cell_type": "code",
   "execution_count": 221,
   "metadata": {},
   "outputs": [
    {
     "data": {
      "text/html": [
       "<div>\n",
       "<style scoped>\n",
       "    .dataframe tbody tr th:only-of-type {\n",
       "        vertical-align: middle;\n",
       "    }\n",
       "\n",
       "    .dataframe tbody tr th {\n",
       "        vertical-align: top;\n",
       "    }\n",
       "\n",
       "    .dataframe thead th {\n",
       "        text-align: right;\n",
       "    }\n",
       "</style>\n",
       "<table border=\"1\" class=\"dataframe\">\n",
       "  <thead>\n",
       "    <tr style=\"text-align: right;\">\n",
       "      <th></th>\n",
       "      <th>feature</th>\n",
       "      <th>importance</th>\n",
       "    </tr>\n",
       "  </thead>\n",
       "  <tbody>\n",
       "    <tr>\n",
       "      <th>0</th>\n",
       "      <td>tasmax_median</td>\n",
       "      <td>0.830635</td>\n",
       "    </tr>\n",
       "    <tr>\n",
       "      <th>1</th>\n",
       "      <td>xhe_median</td>\n",
       "      <td>0.108157</td>\n",
       "    </tr>\n",
       "    <tr>\n",
       "      <th>2</th>\n",
       "      <td>hwi_median</td>\n",
       "      <td>0.061208</td>\n",
       "    </tr>\n",
       "  </tbody>\n",
       "</table>\n",
       "</div>"
      ],
      "text/plain": [
       "         feature  importance\n",
       "0  tasmax_median    0.830635\n",
       "1     xhe_median    0.108157\n",
       "2     hwi_median    0.061208"
      ]
     },
     "execution_count": 221,
     "metadata": {},
     "output_type": "execute_result"
    }
   ],
   "source": [
    "df = pd.DataFrame({'feature': feature_cols, 'importance': rfreg_three_hosp.feature_importances_})\n",
    "df.sort_values('importance', ascending=False)"
   ]
  },
  {
   "cell_type": "markdown",
   "metadata": {},
   "source": [
    "#### Out-of-bag R-squared score"
   ]
  },
  {
   "cell_type": "code",
   "execution_count": 222,
   "metadata": {},
   "outputs": [
    {
     "data": {
      "text/plain": [
       "0.6122007414143226"
      ]
     },
     "execution_count": 222,
     "metadata": {},
     "output_type": "execute_result"
    }
   ],
   "source": [
    "rfreg_three_hosp.oob_score_"
   ]
  },
  {
   "cell_type": "markdown",
   "metadata": {},
   "source": [
    "#### K-Fold Cross Validation\n",
    "With $k=10$"
   ]
  },
  {
   "cell_type": "code",
   "execution_count": 223,
   "metadata": {},
   "outputs": [
    {
     "data": {
      "text/plain": [
       "138.61016660180928"
      ]
     },
     "execution_count": 223,
     "metadata": {},
     "output_type": "execute_result"
    }
   ],
   "source": [
    "scores = cross_val_score(rfreg_three_hosp, X, y, cv=10, scoring='neg_mean_squared_error')\n",
    "np.mean(np.sqrt(-scores))"
   ]
  },
  {
   "cell_type": "code",
   "execution_count": null,
   "metadata": {},
   "outputs": [],
   "source": []
  },
  {
   "cell_type": "markdown",
   "metadata": {},
   "source": [
    "# Random Forest Regression, Continued"
   ]
  },
  {
   "cell_type": "markdown",
   "metadata": {},
   "source": [
    "## Step 2: Separate the Training and Testing Data\n",
    "### Train the Model on 2006-2009 Data and Test it on 2010 Data\n",
    "\n",
    "\n",
    "The ultimate goal of this model is to be able to train it on historical data and test it on future, projected climate scenarios. In order to do this, the model needs to be trained on data from one time period and tested on another. Since I have data from 2006-2010, I will manually separate the data into training (2006-2009) and testing (2010) sets.\n",
    "\n",
    "There are still several versions I want to test and compare, which I will do in the following order:\n",
    "- **Number of Hospitalizations**\n",
    "    - 3 climate indicators (`tasmax`, `xhe`, `hwi`)\n",
    "    - 2 climate indicators (`tasmax`, `xhe`)\n",
    "    - 1 climate indicator (`tasmax`)\n",
    "    \n",
    "One caveat to this is that due to the way I'm manually separating the dataset by rows, I cannot do a k-fold cross validation. But I will evaluate model performance based on $MSE$, $RMSE$, and $R^2$"
   ]
  },
  {
   "cell_type": "markdown",
   "metadata": {},
   "source": [
    "#### All Three Climate Indicators + Number of Hospitalizations"
   ]
  },
  {
   "cell_type": "code",
   "execution_count": 224,
   "metadata": {},
   "outputs": [],
   "source": [
    "feature_cols = ['tasmax_median', 'xhe_median', 'hwi_median']\n",
    "\n",
    "X = final_df.loc[:, feature_cols]\n",
    "y = final_df.loc[:, 'hospitalizations']\n",
    "\n",
    "# Manually split up data into training (2006-2009) and testing (2010)\n",
    "X_train = final_df.loc[years_2006_2009, feature_cols]\n",
    "X_test = final_df.loc[years_2010, feature_cols]\n",
    "y_train = final_df.loc[years_2006_2009, 'hospitalizations']\n",
    "y_test = final_df.loc[years_2010, 'hospitalizations']\n",
    "\n",
    "rfreg_three_hosp = RandomForestRegressor(n_estimators=150, max_features=3, oob_score=True, random_state=1)\n",
    "rfreg_three_hosp.fit(X_train, y_train)\n",
    "\n",
    "y_pred = rfreg_three_hosp.predict(X_test)"
   ]
  },
  {
   "cell_type": "code",
   "execution_count": 225,
   "metadata": {},
   "outputs": [
    {
     "data": {
      "text/html": [
       "<div>\n",
       "<style scoped>\n",
       "    .dataframe tbody tr th:only-of-type {\n",
       "        vertical-align: middle;\n",
       "    }\n",
       "\n",
       "    .dataframe tbody tr th {\n",
       "        vertical-align: top;\n",
       "    }\n",
       "\n",
       "    .dataframe thead th {\n",
       "        text-align: right;\n",
       "    }\n",
       "</style>\n",
       "<table border=\"1\" class=\"dataframe\">\n",
       "  <thead>\n",
       "    <tr style=\"text-align: right;\">\n",
       "      <th></th>\n",
       "      <th>feature</th>\n",
       "      <th>importance</th>\n",
       "    </tr>\n",
       "  </thead>\n",
       "  <tbody>\n",
       "    <tr>\n",
       "      <th>0</th>\n",
       "      <td>tasmax_median</td>\n",
       "      <td>0.832002</td>\n",
       "    </tr>\n",
       "    <tr>\n",
       "      <th>1</th>\n",
       "      <td>xhe_median</td>\n",
       "      <td>0.109384</td>\n",
       "    </tr>\n",
       "    <tr>\n",
       "      <th>2</th>\n",
       "      <td>hwi_median</td>\n",
       "      <td>0.058614</td>\n",
       "    </tr>\n",
       "  </tbody>\n",
       "</table>\n",
       "</div>"
      ],
      "text/plain": [
       "         feature  importance\n",
       "0  tasmax_median    0.832002\n",
       "1     xhe_median    0.109384\n",
       "2     hwi_median    0.058614"
      ]
     },
     "execution_count": 225,
     "metadata": {},
     "output_type": "execute_result"
    }
   ],
   "source": [
    "df = pd.DataFrame({'feature': feature_cols, 'importance': rfreg_three_hosp.feature_importances_})\n",
    "df.sort_values('importance', ascending=False)"
   ]
  },
  {
   "cell_type": "code",
   "execution_count": 226,
   "metadata": {},
   "outputs": [
    {
     "data": {
      "text/plain": [
       "0.6657504849870715"
      ]
     },
     "execution_count": 226,
     "metadata": {},
     "output_type": "execute_result"
    }
   ],
   "source": [
    "rfreg_three_hosp.oob_score_"
   ]
  },
  {
   "cell_type": "code",
   "execution_count": 227,
   "metadata": {},
   "outputs": [
    {
     "name": "stdout",
     "output_type": "stream",
     "text": [
      "3 Climate Variables: RMSE Training: 38.554617291483446\n",
      "3 Climate Variables: RMSE Testing: 116.87893809428759\n"
     ]
    }
   ],
   "source": [
    "# MSE/RMSE on training set\n",
    "print('3 Climate Variables: RMSE Training:', np.sqrt(metrics.mean_squared_error(y_train, rfreg_three_hosp.predict(X_train))))\n",
    "\n",
    "# MSE/RMSE on test set\n",
    "print('3 Climate Variables: RMSE Testing:', np.sqrt(metrics.mean_squared_error(y_test, y_pred)))"
   ]
  },
  {
   "cell_type": "markdown",
   "metadata": {},
   "source": [
    "#### Average High Temp and Extreme Heat Events + Number of Hospitalizations"
   ]
  },
  {
   "cell_type": "code",
   "execution_count": 228,
   "metadata": {},
   "outputs": [],
   "source": [
    "feature_cols = ['tasmax_median', 'xhe_median']\n",
    "\n",
    "X = final_df.loc[:, feature_cols]\n",
    "y = final_df.loc[:, 'hospitalizations']\n",
    "\n",
    "# Manually split up data into training (2006-2009) and testing (2010)\n",
    "X_train = final_df.loc[years_2006_2009, feature_cols]\n",
    "X_test = final_df.loc[years_2010, feature_cols]\n",
    "y_train = final_df.loc[years_2006_2009, 'hospitalizations']\n",
    "y_test = final_df.loc[years_2010, 'hospitalizations']\n",
    "\n",
    "rfreg_tasmax_xhe_hosp = RandomForestRegressor(n_estimators=150, max_features=2, oob_score=True, random_state=1)\n",
    "rfreg_tasmax_xhe_hosp.fit(X_train, y_train)\n",
    "\n",
    "y_pred = rfreg_tasmax_xhe_hosp.predict(X_test)"
   ]
  },
  {
   "cell_type": "code",
   "execution_count": 229,
   "metadata": {},
   "outputs": [
    {
     "data": {
      "text/html": [
       "<div>\n",
       "<style scoped>\n",
       "    .dataframe tbody tr th:only-of-type {\n",
       "        vertical-align: middle;\n",
       "    }\n",
       "\n",
       "    .dataframe tbody tr th {\n",
       "        vertical-align: top;\n",
       "    }\n",
       "\n",
       "    .dataframe thead th {\n",
       "        text-align: right;\n",
       "    }\n",
       "</style>\n",
       "<table border=\"1\" class=\"dataframe\">\n",
       "  <thead>\n",
       "    <tr style=\"text-align: right;\">\n",
       "      <th></th>\n",
       "      <th>feature</th>\n",
       "      <th>importance</th>\n",
       "    </tr>\n",
       "  </thead>\n",
       "  <tbody>\n",
       "    <tr>\n",
       "      <th>0</th>\n",
       "      <td>tasmax_median</td>\n",
       "      <td>0.885551</td>\n",
       "    </tr>\n",
       "    <tr>\n",
       "      <th>1</th>\n",
       "      <td>xhe_median</td>\n",
       "      <td>0.114449</td>\n",
       "    </tr>\n",
       "  </tbody>\n",
       "</table>\n",
       "</div>"
      ],
      "text/plain": [
       "         feature  importance\n",
       "0  tasmax_median    0.885551\n",
       "1     xhe_median    0.114449"
      ]
     },
     "execution_count": 229,
     "metadata": {},
     "output_type": "execute_result"
    }
   ],
   "source": [
    "df = pd.DataFrame({'feature': feature_cols, 'importance': rfreg_tasmax_xhe_hosp.feature_importances_})\n",
    "df.sort_values('importance', ascending=False)"
   ]
  },
  {
   "cell_type": "code",
   "execution_count": 230,
   "metadata": {},
   "outputs": [
    {
     "data": {
      "text/plain": [
       "0.6821352931763979"
      ]
     },
     "execution_count": 230,
     "metadata": {},
     "output_type": "execute_result"
    }
   ],
   "source": [
    "rfreg_tasmax_xhe_hosp.oob_score_"
   ]
  },
  {
   "cell_type": "code",
   "execution_count": 231,
   "metadata": {},
   "outputs": [
    {
     "name": "stdout",
     "output_type": "stream",
     "text": [
      "2 Climate Variables: RMSE Training: 37.61135405839944\n",
      "2 Climate Variables: RMSE Testing: 119.93256656029307\n"
     ]
    }
   ],
   "source": [
    "# MSE/RMSE on training set\n",
    "print('2 Climate Variables: RMSE Training:', np.sqrt(metrics.mean_squared_error(y_train, rfreg_tasmax_xhe_hosp.predict(X_train))))\n",
    "\n",
    "# MSE/RMSE on test set\n",
    "print('2 Climate Variables: RMSE Testing:', np.sqrt(metrics.mean_squared_error(y_test, y_pred)))"
   ]
  },
  {
   "cell_type": "markdown",
   "metadata": {},
   "source": [
    "#### Average High Temp + Number of Hospitalizations"
   ]
  },
  {
   "cell_type": "code",
   "execution_count": 232,
   "metadata": {},
   "outputs": [],
   "source": [
    "feature_cols = ['tasmax_median']\n",
    "\n",
    "X = final_df.loc[:, feature_cols]\n",
    "y = final_df.loc[:, 'hospitalizations']\n",
    "\n",
    "# Manually split up data into training (2006-2009) and testing (2010)\n",
    "X_train = final_df.loc[years_2006_2009, feature_cols]\n",
    "X_test = final_df.loc[years_2010, feature_cols]\n",
    "y_train = final_df.loc[years_2006_2009, 'hospitalizations']\n",
    "y_test = final_df.loc[years_2010, 'hospitalizations']\n",
    "\n",
    "rfreg_tasmax_hosp = RandomForestRegressor(n_estimators=150, max_features=1, oob_score=True, random_state=1)\n",
    "rfreg_tasmax_hosp.fit(X_train, y_train)\n",
    "\n",
    "y_pred = rfreg_tasmax_hosp.predict(X_test)"
   ]
  },
  {
   "cell_type": "code",
   "execution_count": 233,
   "metadata": {},
   "outputs": [
    {
     "data": {
      "text/html": [
       "<div>\n",
       "<style scoped>\n",
       "    .dataframe tbody tr th:only-of-type {\n",
       "        vertical-align: middle;\n",
       "    }\n",
       "\n",
       "    .dataframe tbody tr th {\n",
       "        vertical-align: top;\n",
       "    }\n",
       "\n",
       "    .dataframe thead th {\n",
       "        text-align: right;\n",
       "    }\n",
       "</style>\n",
       "<table border=\"1\" class=\"dataframe\">\n",
       "  <thead>\n",
       "    <tr style=\"text-align: right;\">\n",
       "      <th></th>\n",
       "      <th>feature</th>\n",
       "      <th>importance</th>\n",
       "    </tr>\n",
       "  </thead>\n",
       "  <tbody>\n",
       "    <tr>\n",
       "      <th>0</th>\n",
       "      <td>tasmax_median</td>\n",
       "      <td>1.0</td>\n",
       "    </tr>\n",
       "  </tbody>\n",
       "</table>\n",
       "</div>"
      ],
      "text/plain": [
       "         feature  importance\n",
       "0  tasmax_median         1.0"
      ]
     },
     "execution_count": 233,
     "metadata": {},
     "output_type": "execute_result"
    }
   ],
   "source": [
    "df = pd.DataFrame({'feature': feature_cols, 'importance': rfreg_tasmax_hosp.feature_importances_})\n",
    "df.sort_values('importance', ascending=False)"
   ]
  },
  {
   "cell_type": "code",
   "execution_count": 234,
   "metadata": {},
   "outputs": [
    {
     "data": {
      "text/plain": [
       "0.6657504849870715"
      ]
     },
     "execution_count": 234,
     "metadata": {},
     "output_type": "execute_result"
    }
   ],
   "source": [
    "rfreg_three_hosp.oob_score_"
   ]
  },
  {
   "cell_type": "code",
   "execution_count": 235,
   "metadata": {},
   "outputs": [
    {
     "name": "stdout",
     "output_type": "stream",
     "text": [
      "Average High Temp: RMSE Training: 35.428798597303704\n",
      "Average High Temp: RMSE Testing: 121.05619715473148\n"
     ]
    }
   ],
   "source": [
    "# MSE/RMSE on training set\n",
    "print('Average High Temp: RMSE Training:', np.sqrt(metrics.mean_squared_error(y_train, rfreg_tasmax_hosp.predict(X_train))))\n",
    "\n",
    "# MSE/RMSE on test set\n",
    "print('Average High Temp: RMSE Testing:', np.sqrt(metrics.mean_squared_error(y_test, y_pred)))"
   ]
  },
  {
   "cell_type": "markdown",
   "metadata": {},
   "source": [
    "### Random Forest Regression: Summary"
   ]
  },
  {
   "cell_type": "code",
   "execution_count": 237,
   "metadata": {},
   "outputs": [
    {
     "data": {
      "text/html": [
       "<div>\n",
       "<style scoped>\n",
       "    .dataframe tbody tr th:only-of-type {\n",
       "        vertical-align: middle;\n",
       "    }\n",
       "\n",
       "    .dataframe tbody tr th {\n",
       "        vertical-align: top;\n",
       "    }\n",
       "\n",
       "    .dataframe thead th {\n",
       "        text-align: right;\n",
       "    }\n",
       "</style>\n",
       "<table border=\"1\" class=\"dataframe\">\n",
       "  <thead>\n",
       "    <tr style=\"text-align: right;\">\n",
       "      <th></th>\n",
       "      <th>Baseline Model</th>\n",
       "      <th>tasmax + xhe</th>\n",
       "      <th>tasmax + xhe + hwi</th>\n",
       "      <th>tasmax only</th>\n",
       "    </tr>\n",
       "  </thead>\n",
       "  <tbody>\n",
       "    <tr>\n",
       "      <th>0</th>\n",
       "      <td>138.61</td>\n",
       "      <td>119.93</td>\n",
       "      <td>116.88</td>\n",
       "      <td>121.06</td>\n",
       "    </tr>\n",
       "  </tbody>\n",
       "</table>\n",
       "</div>"
      ],
      "text/plain": [
       "   Baseline Model  tasmax + xhe  tasmax + xhe + hwi  tasmax only\n",
       "0          138.61        119.93              116.88       121.06"
      ]
     },
     "execution_count": 237,
     "metadata": {},
     "output_type": "execute_result"
    }
   ],
   "source": [
    "treereg_compare_rmse_df = {'tasmax + xhe + hwi': [116.88], \n",
    "                        'tasmax + xhe': [119.93], \n",
    "                        'tasmax only': [121.06], \n",
    "                        'Baseline Model': [138.61]}\n",
    "treereg_compare_rmse_df = pd.DataFrame(data=treereg_compare_rmse_df)\n",
    "treereg_compare_rmse_df"
   ]
  },
  {
   "cell_type": "markdown",
   "metadata": {},
   "source": [
    "The best-performing Random Forest Regression model was the model predicting number of hospitalizations based on all three climate variables, Average High Temperature, Extreme Heat Events, and Heat Wave Incidents. Despite the relatively low feature importance for `hwi`, as pasted below for reference, including it still made a small impact on the $RMSE$. "
   ]
  },
  {
   "cell_type": "code",
   "execution_count": 242,
   "metadata": {},
   "outputs": [
    {
     "data": {
      "text/html": [
       "<div>\n",
       "<style scoped>\n",
       "    .dataframe tbody tr th:only-of-type {\n",
       "        vertical-align: middle;\n",
       "    }\n",
       "\n",
       "    .dataframe tbody tr th {\n",
       "        vertical-align: top;\n",
       "    }\n",
       "\n",
       "    .dataframe thead th {\n",
       "        text-align: right;\n",
       "    }\n",
       "</style>\n",
       "<table border=\"1\" class=\"dataframe\">\n",
       "  <thead>\n",
       "    <tr style=\"text-align: right;\">\n",
       "      <th></th>\n",
       "      <th>feature</th>\n",
       "      <th>importance</th>\n",
       "    </tr>\n",
       "  </thead>\n",
       "  <tbody>\n",
       "    <tr>\n",
       "      <th>0</th>\n",
       "      <td>tasmax</td>\n",
       "      <td>0.832002</td>\n",
       "    </tr>\n",
       "    <tr>\n",
       "      <th>1</th>\n",
       "      <td>xhe</td>\n",
       "      <td>0.109384</td>\n",
       "    </tr>\n",
       "    <tr>\n",
       "      <th>2</th>\n",
       "      <td>hwi</td>\n",
       "      <td>0.058614</td>\n",
       "    </tr>\n",
       "  </tbody>\n",
       "</table>\n",
       "</div>"
      ],
      "text/plain": [
       "  feature  importance\n",
       "0  tasmax    0.832002\n",
       "1     xhe    0.109384\n",
       "2     hwi    0.058614"
      ]
     },
     "execution_count": 242,
     "metadata": {},
     "output_type": "execute_result"
    }
   ],
   "source": [
    "df = pd.DataFrame({'feature': ['tasmax', 'xhe', 'hwi'], 'importance': rfreg_three_hosp.feature_importances_})\n",
    "df"
   ]
  },
  {
   "cell_type": "code",
   "execution_count": null,
   "metadata": {},
   "outputs": [],
   "source": []
  },
  {
   "cell_type": "markdown",
   "metadata": {},
   "source": [
    "# Conclusions\n",
    "### Linear Regression Models\n",
    "The best-performing Linear Regression model was the model predicting number of hospitalizations based on Average High Temperature and Extreme Heat Events. The testing error is larger than the training error, indicating overfitting. But the model still performed better than the null model, indicating is has some predictive capabilities.\n",
    "\n",
    "But, overall, the model has a reasonably high training error, indicating a bias problem, and a gap between the training and testing error, indicating a variance problem. It's an overly simplified model that could greatly benefit from more data.\n",
    "\n",
    "### Random Forest Regression Models\n",
    "The best-performing Random Forest Regression model was the model predicting number of hospitalizations based on all three climate variables, Average High Temperature, Extreme Heat Events, and Heat Wave Incidents. Despite the relatively low feature importance for hwi, as pasted below for reference, including it still made a small impact on the  RMSE.\n",
    "\n",
    "# Next Steps\n",
    "Both of these models could benefit from much more data. Data for 5 years for two dozen cities simply isn't enough to create a model with any predictive value. \n",
    "\n",
    "To improve these models, a few next steps would be:\n",
    "- Finding more complete hospitalization data (preferably at a *city* level, rather than state)\n",
    "- Collect climate indicator data for many more cities\n",
    "- Add in socioeconomic data, which may impact # of hospitalizations (e.g., age)\n",
    "- Test additional climate indicators\n",
    "- Focus on a particular region\n",
    "- Once model is improved, test it for future climate projections, e.g., to 2050 and 2100"
   ]
  },
  {
   "cell_type": "code",
   "execution_count": null,
   "metadata": {},
   "outputs": [],
   "source": []
  }
 ],
 "metadata": {
  "kernelspec": {
   "display_name": "Python 3",
   "language": "python",
   "name": "python3"
  },
  "language_info": {
   "codemirror_mode": {
    "name": "ipython",
    "version": 3
   },
   "file_extension": ".py",
   "mimetype": "text/x-python",
   "name": "python",
   "nbconvert_exporter": "python",
   "pygments_lexer": "ipython3",
   "version": "3.6.4"
  }
 },
 "nbformat": 4,
 "nbformat_minor": 2
}
